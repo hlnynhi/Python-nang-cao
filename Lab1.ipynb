{
  "nbformat": 4,
  "nbformat_minor": 0,
  "metadata": {
    "colab": {
      "name": "Lab1.ipynb",
      "provenance": [],
      "authorship_tag": "ABX9TyOVQJ9CsuQFIG0KIKIWLHiy",
      "include_colab_link": true
    },
    "kernelspec": {
      "name": "python3",
      "display_name": "Python 3"
    },
    "language_info": {
      "name": "python"
    }
  },
  "cells": [
    {
      "cell_type": "markdown",
      "metadata": {
        "id": "view-in-github",
        "colab_type": "text"
      },
      "source": [
        "<a href=\"https://colab.research.google.com/github/hlnynhi/Python-nang-cao/blob/main/Lab1.ipynb\" target=\"_parent\"><img src=\"https://colab.research.google.com/assets/colab-badge.svg\" alt=\"Open In Colab\"/></a>"
      ]
    },
    {
      "cell_type": "markdown",
      "metadata": {
        "id": "PAEN6KU0LfTW"
      },
      "source": [
        "Bài tập chương 3."
      ]
    },
    {
      "cell_type": "markdown",
      "metadata": {
        "id": "IXvqnJQJLmkg"
      },
      "source": [
        "1."
      ]
    },
    {
      "cell_type": "code",
      "metadata": {
        "colab": {
          "base_uri": "https://localhost:8080/"
        },
        "id": "o0vFNgy4GU7M",
        "outputId": "83e37c1e-17ea-43fe-a0cb-ec9c9d6548f7"
      },
      "source": [
        " min(2, 3, 4)"
      ],
      "execution_count": null,
      "outputs": [
        {
          "output_type": "execute_result",
          "data": {
            "text/plain": [
              "2"
            ]
          },
          "metadata": {},
          "execution_count": 1
        }
      ]
    },
    {
      "cell_type": "code",
      "metadata": {
        "colab": {
          "base_uri": "https://localhost:8080/"
        },
        "id": "RlegamlgObHv",
        "outputId": "34434d59-e026-4018-ab24-c50ed03601bf"
      },
      "source": [
        "max(2, -3, 4, 7, -5)"
      ],
      "execution_count": null,
      "outputs": [
        {
          "output_type": "execute_result",
          "data": {
            "text/plain": [
              "7"
            ]
          },
          "metadata": {},
          "execution_count": 2
        }
      ]
    },
    {
      "cell_type": "code",
      "metadata": {
        "colab": {
          "base_uri": "https://localhost:8080/"
        },
        "id": "fL9wOH7cOdOG",
        "outputId": "6a623d0c-ec54-4353-9f36-47e09a5b20a9"
      },
      "source": [
        "max(2, -3, min(4, 7), -5)"
      ],
      "execution_count": null,
      "outputs": [
        {
          "output_type": "execute_result",
          "data": {
            "text/plain": [
              "4"
            ]
          },
          "metadata": {},
          "execution_count": 3
        }
      ]
    },
    {
      "cell_type": "markdown",
      "metadata": {
        "id": "FDCqC6qzOo-m"
      },
      "source": [
        "2."
      ]
    },
    {
      "cell_type": "code",
      "metadata": {
        "colab": {
          "base_uri": "https://localhost:8080/"
        },
        "id": "iOIN6fgXOs6m",
        "outputId": "e21e83e3-e384-452a-9b40-58b0f0c085f4"
      },
      "source": [
        " min(max(3, 4), abs(-5))"
      ],
      "execution_count": null,
      "outputs": [
        {
          "output_type": "execute_result",
          "data": {
            "text/plain": [
              "4"
            ]
          },
          "metadata": {},
          "execution_count": 4
        }
      ]
    },
    {
      "cell_type": "code",
      "metadata": {
        "colab": {
          "base_uri": "https://localhost:8080/"
        },
        "id": "PI5ZpeBEOzku",
        "outputId": "e0878ae1-dafb-4092-9094-10ebd53ab0c8"
      },
      "source": [
        "abs(min(4, 6, max(2, 8)))"
      ],
      "execution_count": null,
      "outputs": [
        {
          "output_type": "execute_result",
          "data": {
            "text/plain": [
              "4"
            ]
          },
          "metadata": {},
          "execution_count": 5
        }
      ]
    },
    {
      "cell_type": "code",
      "metadata": {
        "colab": {
          "base_uri": "https://localhost:8080/"
        },
        "id": "wtLwmXoYO-CP",
        "outputId": "d3103940-b3f7-44e9-d843-a57215be32bc"
      },
      "source": [
        "round(max(5.572, 3.258), abs(-2))"
      ],
      "execution_count": null,
      "outputs": [
        {
          "output_type": "execute_result",
          "data": {
            "text/plain": [
              "5.57"
            ]
          },
          "metadata": {},
          "execution_count": 6
        }
      ]
    },
    {
      "cell_type": "markdown",
      "metadata": {
        "id": "ftPMtCu_PF7G"
      },
      "source": [
        "3.\n"
      ]
    },
    {
      "cell_type": "code",
      "metadata": {
        "colab": {
          "base_uri": "https://localhost:8080/"
        },
        "id": "VNeBYrNWPHn_",
        "outputId": "a82c15af-544d-4e15-8255-df353bc67fcc"
      },
      "source": [
        "def triple(num):\n",
        " \"\"\" (number) -> number\n",
        " Return num tripled.\n",
        " >>> triple(3)\n",
        " 9\n",
        " \"\"\"\n",
        " return num * 3\n",
        "triple(5)"
      ],
      "execution_count": null,
      "outputs": [
        {
          "output_type": "execute_result",
          "data": {
            "text/plain": [
              "15"
            ]
          },
          "metadata": {},
          "execution_count": 13
        }
      ]
    },
    {
      "cell_type": "markdown",
      "metadata": {
        "id": "fFoTzgCdPi_H"
      },
      "source": [
        "4.\n"
      ]
    },
    {
      "cell_type": "code",
      "metadata": {
        "id": "uJYR00vqSaU_",
        "colab": {
          "base_uri": "https://localhost:8080/"
        },
        "outputId": "4939822d-15d4-429c-b44c-0f47f8cb76f7"
      },
      "source": [
        "def absolute_difference(number1, number2):\n",
        "  \"\"\" (number, number) -> number\n",
        " Return the absolute value of the difference between number1\n",
        " and number2.\n",
        " >>> absolute_difference(3, 7)\n",
        " 4\n",
        " \"\"\"\n",
        "  return abs(number1 - number2)\n",
        "absolute_difference(2,1)"
      ],
      "execution_count": 4,
      "outputs": [
        {
          "output_type": "execute_result",
          "data": {
            "text/plain": [
              "1"
            ]
          },
          "metadata": {},
          "execution_count": 4
        }
      ]
    },
    {
      "cell_type": "markdown",
      "metadata": {
        "id": "GeNTrcF6DTJK"
      },
      "source": [
        "5."
      ]
    },
    {
      "cell_type": "code",
      "metadata": {
        "colab": {
          "base_uri": "https://localhost:8080/"
        },
        "id": "auHDTOAXDU0u",
        "outputId": "52af8821-8760-434b-8b07-8437b157aa11"
      },
      "source": [
        "def km_to_miles(km):\n",
        " \"\"\" (number) -> float\n",
        " Return the distance km in miles.\n",
        " >>> km_to_miles(5)\n",
        " 3.125\n",
        " \"\"\"\n",
        " return km / 1.6\n",
        "km_to_miles(10)"
      ],
      "execution_count": 35,
      "outputs": [
        {
          "output_type": "execute_result",
          "data": {
            "text/plain": [
              "6.25"
            ]
          },
          "metadata": {},
          "execution_count": 35
        }
      ]
    },
    {
      "cell_type": "markdown",
      "metadata": {
        "id": "Q9cVCf1LDbUB"
      },
      "source": [
        "6."
      ]
    },
    {
      "cell_type": "code",
      "metadata": {
        "id": "q-OrcjCIDeaY"
      },
      "source": [
        "def average_grade(grade1, grade2, grade3):\n",
        " \"\"\" (number, number, number) -> number\n",
        " Return the average of the grade1, grade2, and grade3, where\n",
        " each grade ranges from 0 to 100, inclusive.\n",
        " >>> average_grade(80, 95, 90)\n",
        " 88.33333333333333\n",
        " \"\"\"\n",
        " return (grade1 + grade2 + grade3) / 3\n",
        "average_grade(3,6,1)"
      ],
      "execution_count": null,
      "outputs": []
    },
    {
      "cell_type": "markdown",
      "metadata": {
        "id": "-XjpgiG3Dup6"
      },
      "source": [
        "7."
      ]
    },
    {
      "cell_type": "code",
      "metadata": {
        "colab": {
          "base_uri": "https://localhost:8080/"
        },
        "id": "7nErhERuDv4b",
        "outputId": "efca2e0e-697c-45ca-f037-e70e4162489f"
      },
      "source": [
        "def top_three_avg(grade1, grade2, grade3, grade4):\n",
        " \"\"\" (number, number, number, number) -> number\n",
        " Return the average of the top three of grades grade1, grade2,\n",
        " grade3, and grade4.\n",
        " >>> top_three_avg(50, 60, 70, 80)\n",
        " 70\n",
        " \"\"\"\n",
        " # Here is one solution that does not use average_grade from Q6.\n",
        " total = grade1 + grade2 + grade3 + grade4\n",
        " top_three = total - min(grade1, grade2, grade3, grade4)\n",
        " return top_three / 3\n",
        " # Here is a different solution that does use the function from Q6.\n",
        " return max(average_grade(grade1, grade2, grade3),\n",
        " average_grade(grade1, grade2, grade4),\n",
        " average_grade(grade1, grade3, grade4),\n",
        " average_grade(grade2, grade3, grade4))\n",
        " return (grade1 + grade2 + grade3) / 3\n",
        "top_three_avg(4,6,3,8)"
      ],
      "execution_count": 6,
      "outputs": [
        {
          "output_type": "execute_result",
          "data": {
            "text/plain": [
              "6.0"
            ]
          },
          "metadata": {},
          "execution_count": 6
        }
      ]
    },
    {
      "cell_type": "markdown",
      "metadata": {
        "id": "3JH03R87D-3O"
      },
      "source": [
        "8."
      ]
    },
    {
      "cell_type": "code",
      "metadata": {
        "colab": {
          "base_uri": "https://localhost:8080/"
        },
        "id": "9ymeVq7SEBNV",
        "outputId": "20f75430-c7c0-4282-9307-b762c28a7b42"
      },
      "source": [
        "def weeks_elapsed(day1, day2):\n",
        "  \"\"\"(int, int) -> int\n",
        "day1 and day2 are days in the same year. Return the number of full weeks\n",
        "that have elapsed between the two days.\n",
        ">>> weeks_elapsed(3, 20)\n",
        "2\n",
        ">>> weeks_elapsed(20, 3)\n",
        "2\n",
        ">>> weeks_elapsed(8, 5)\n",
        ">>> weeks_elapsed(40, 61)\n",
        "\"\"\"\n",
        "  if day1 and day2 <= 31:\n",
        "    return abs((day1-day2))//7\n",
        "weeks_elapsed(1,15)"
      ],
      "execution_count": 31,
      "outputs": [
        {
          "output_type": "execute_result",
          "data": {
            "text/plain": [
              "2"
            ]
          },
          "metadata": {},
          "execution_count": 31
        }
      ]
    },
    {
      "cell_type": "markdown",
      "metadata": {
        "id": "hXkOyc0NJTG0"
      },
      "source": [
        "9."
      ]
    },
    {
      "cell_type": "code",
      "metadata": {
        "id": "0KbAIrwbJU1A",
        "outputId": "f1be095e-d89d-49dc-8132-4751409073c7",
        "colab": {
          "base_uri": "https://localhost:8080/"
        }
      },
      "source": [
        "def square(num):\n",
        "  \"\"\" (number) -> number\n",
        "Return the square of num.\n",
        ">>> square(3)\n",
        "9\n",
        "\"\"\"\n",
        "  return num**2\n",
        "square(8)\n"
      ],
      "execution_count": 34,
      "outputs": [
        {
          "output_type": "execute_result",
          "data": {
            "text/plain": [
              "64"
            ]
          },
          "metadata": {},
          "execution_count": 34
        }
      ]
    },
    {
      "cell_type": "markdown",
      "metadata": {
        "id": "WxBSR3nUKepf"
      },
      "source": [
        "Bài tập chương 6.\n"
      ]
    },
    {
      "cell_type": "markdown",
      "metadata": {
        "id": "717xojLrLVmv"
      },
      "source": [
        "1."
      ]
    },
    {
      "cell_type": "code",
      "metadata": {
        "id": "h3ZBmTDFLUHo",
        "outputId": "26c88c48-92af-4bef-80ad-2fece1495a91",
        "colab": {
          "base_uri": "https://localhost:8080/"
        }
      },
      "source": [
        "import math\n",
        "#câu a\n",
        "a=math.floor(-2.8)\n",
        "print(a)\n",
        "#câu b\n",
        "b=abs(round(-4.3))\n",
        "print(b)\n",
        "#câu c\n",
        "math.ceil(math.sin(34.5))"
      ],
      "execution_count": 40,
      "outputs": [
        {
          "output_type": "stream",
          "name": "stdout",
          "text": [
            "4\n"
          ]
        },
        {
          "output_type": "execute_result",
          "data": {
            "text/plain": [
              "1"
            ]
          },
          "metadata": {},
          "execution_count": 40
        }
      ]
    },
    {
      "cell_type": "markdown",
      "metadata": {
        "id": "almlGB6ANCYf"
      },
      "source": [
        "2."
      ]
    },
    {
      "cell_type": "code",
      "metadata": {
        "id": "qqLOJG_pNDK8",
        "outputId": "8204f4be-7883-4205-9651-368e945e83af",
        "colab": {
          "base_uri": "https://localhost:8080/"
        }
      },
      "source": [
        "#câu a\n",
        "import calendar\n",
        "#câu b\n",
        "help(calendar.isleap)\n",
        "#câu c\n",
        "calendar.isleap(2016)\n",
        "#câu d\n",
        "print(dir(calendar))\n",
        "#câu e\n",
        "print(calendar.leapdays(2000, 2050))\n",
        "#câu f\n",
        "calendar.weekday(2016, 7, 29)"
      ],
      "execution_count": 46,
      "outputs": [
        {
          "output_type": "stream",
          "name": "stdout",
          "text": [
            "Help on function isleap in module calendar:\n",
            "\n",
            "isleap(year)\n",
            "    Return True for leap years, False for non-leap years.\n",
            "\n",
            "['Calendar', 'EPOCH', 'FRIDAY', 'February', 'HTMLCalendar', 'IllegalMonthError', 'IllegalWeekdayError', 'January', 'LocaleHTMLCalendar', 'LocaleTextCalendar', 'MONDAY', 'SATURDAY', 'SUNDAY', 'THURSDAY', 'TUESDAY', 'TextCalendar', 'WEDNESDAY', '_EPOCH_ORD', '__all__', '__builtins__', '__cached__', '__doc__', '__file__', '__loader__', '__name__', '__package__', '__spec__', '_colwidth', '_locale', '_localized_day', '_localized_month', '_spacing', 'c', 'calendar', 'datetime', 'day_abbr', 'day_name', 'different_locale', 'error', 'firstweekday', 'format', 'formatstring', 'isleap', 'leapdays', 'main', 'mdays', 'month', 'month_abbr', 'month_name', 'monthcalendar', 'monthlen', 'monthrange', 'nextmonth', 'prcal', 'prevmonth', 'prmonth', 'prweek', 'repeat', 'setfirstweekday', 'sys', 'timegm', 'week', 'weekday', 'weekheader']\n",
            "13\n"
          ]
        },
        {
          "output_type": "execute_result",
          "data": {
            "text/plain": [
              "4"
            ]
          },
          "metadata": {},
          "execution_count": 46
        }
      ]
    },
    {
      "cell_type": "markdown",
      "metadata": {
        "id": "t_orDhtoOCoL"
      },
      "source": [
        "3."
      ]
    },
    {
      "cell_type": "code",
      "metadata": {
        "id": "fPHaMkAZODg4",
        "outputId": "410df0ae-bc21-4dc7-9413-27cdd522c4e6",
        "colab": {
          "base_uri": "https://localhost:8080/"
        }
      },
      "source": [
        "\n",
        "def average(num1: float, num2: float) -> float:\n",
        "  \"\"\"Return the average of num1 and num2.\n",
        ">>> average(10,20)\n",
        "15.0\n",
        ">>> average(2.5, 3.0)\n",
        "2.75\n",
        "\"\"\"\n",
        "  return num1 + num2 / 2\n",
        "average(10,20)"
      ],
      "execution_count": 53,
      "outputs": [
        {
          "output_type": "execute_result",
          "data": {
            "text/plain": [
              "20.0"
            ]
          },
          "metadata": {},
          "execution_count": 53
        }
      ]
    }
  ]
}