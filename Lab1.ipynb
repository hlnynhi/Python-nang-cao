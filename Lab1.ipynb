{
  "nbformat": 4,
  "nbformat_minor": 0,
  "metadata": {
    "colab": {
      "name": "Lab1.ipynb",
      "provenance": [],
      "authorship_tag": "ABX9TyOCPzeTB6yjXMkU8bs3Ll1O",
      "include_colab_link": true
    },
    "kernelspec": {
      "name": "python3",
      "display_name": "Python 3"
    },
    "language_info": {
      "name": "python"
    }
  },
  "cells": [
    {
      "cell_type": "markdown",
      "metadata": {
        "id": "view-in-github",
        "colab_type": "text"
      },
      "source": [
        "<a href=\"https://colab.research.google.com/github/hlnynhi/Python-nang-cao/blob/main/Lab1.ipynb\" target=\"_parent\"><img src=\"https://colab.research.google.com/assets/colab-badge.svg\" alt=\"Open In Colab\"/></a>"
      ]
    },
    {
      "cell_type": "code",
      "metadata": {
        "colab": {
          "base_uri": "https://localhost:8080/"
        },
        "id": "o0vFNgy4GU7M",
        "outputId": "83e37c1e-17ea-43fe-a0cb-ec9c9d6548f7"
      },
      "source": [
        " min(2, 3, 4)"
      ],
      "execution_count": 1,
      "outputs": [
        {
          "output_type": "execute_result",
          "data": {
            "text/plain": [
              "2"
            ]
          },
          "metadata": {},
          "execution_count": 1
        }
      ]
    },
    {
      "cell_type": "code",
      "metadata": {
        "colab": {
          "base_uri": "https://localhost:8080/"
        },
        "id": "RlegamlgObHv",
        "outputId": "34434d59-e026-4018-ab24-c50ed03601bf"
      },
      "source": [
        "max(2, -3, 4, 7, -5)"
      ],
      "execution_count": 2,
      "outputs": [
        {
          "output_type": "execute_result",
          "data": {
            "text/plain": [
              "7"
            ]
          },
          "metadata": {},
          "execution_count": 2
        }
      ]
    },
    {
      "cell_type": "code",
      "metadata": {
        "colab": {
          "base_uri": "https://localhost:8080/"
        },
        "id": "fL9wOH7cOdOG",
        "outputId": "6a623d0c-ec54-4353-9f36-47e09a5b20a9"
      },
      "source": [
        "max(2, -3, min(4, 7), -5)"
      ],
      "execution_count": 3,
      "outputs": [
        {
          "output_type": "execute_result",
          "data": {
            "text/plain": [
              "4"
            ]
          },
          "metadata": {},
          "execution_count": 3
        }
      ]
    },
    {
      "cell_type": "markdown",
      "metadata": {
        "id": "FDCqC6qzOo-m"
      },
      "source": [
        "Ex2"
      ]
    },
    {
      "cell_type": "code",
      "metadata": {
        "colab": {
          "base_uri": "https://localhost:8080/"
        },
        "id": "iOIN6fgXOs6m",
        "outputId": "e21e83e3-e384-452a-9b40-58b0f0c085f4"
      },
      "source": [
        " min(max(3, 4), abs(-5))"
      ],
      "execution_count": 4,
      "outputs": [
        {
          "output_type": "execute_result",
          "data": {
            "text/plain": [
              "4"
            ]
          },
          "metadata": {},
          "execution_count": 4
        }
      ]
    },
    {
      "cell_type": "code",
      "metadata": {
        "colab": {
          "base_uri": "https://localhost:8080/"
        },
        "id": "PI5ZpeBEOzku",
        "outputId": "e0878ae1-dafb-4092-9094-10ebd53ab0c8"
      },
      "source": [
        "abs(min(4, 6, max(2, 8)))"
      ],
      "execution_count": 5,
      "outputs": [
        {
          "output_type": "execute_result",
          "data": {
            "text/plain": [
              "4"
            ]
          },
          "metadata": {},
          "execution_count": 5
        }
      ]
    },
    {
      "cell_type": "code",
      "metadata": {
        "colab": {
          "base_uri": "https://localhost:8080/"
        },
        "id": "wtLwmXoYO-CP",
        "outputId": "d3103940-b3f7-44e9-d843-a57215be32bc"
      },
      "source": [
        "round(max(5.572, 3.258), abs(-2))"
      ],
      "execution_count": 6,
      "outputs": [
        {
          "output_type": "execute_result",
          "data": {
            "text/plain": [
              "5.57"
            ]
          },
          "metadata": {},
          "execution_count": 6
        }
      ]
    },
    {
      "cell_type": "markdown",
      "metadata": {
        "id": "ftPMtCu_PF7G"
      },
      "source": [
        "Ex3\n"
      ]
    },
    {
      "cell_type": "code",
      "metadata": {
        "colab": {
          "base_uri": "https://localhost:8080/"
        },
        "id": "VNeBYrNWPHn_",
        "outputId": "a82c15af-544d-4e15-8255-df353bc67fcc"
      },
      "source": [
        "def triple(num):\n",
        " \"\"\" (number) -> number\n",
        " Return num tripled.\n",
        " >>> triple(3)\n",
        " 9\n",
        " \"\"\"\n",
        " return num * 3\n",
        "triple(5)"
      ],
      "execution_count": 13,
      "outputs": [
        {
          "output_type": "execute_result",
          "data": {
            "text/plain": [
              "15"
            ]
          },
          "metadata": {},
          "execution_count": 13
        }
      ]
    },
    {
      "cell_type": "markdown",
      "metadata": {
        "id": "fFoTzgCdPi_H"
      },
      "source": [
        "Ex4\n"
      ]
    },
    {
      "cell_type": "code",
      "metadata": {
        "id": "uJYR00vqSaU_"
      },
      "source": [
        "def absolute_difference(number1, number2):\n",
        "  "
      ],
      "execution_count": null,
      "outputs": []
    }
  ]
}