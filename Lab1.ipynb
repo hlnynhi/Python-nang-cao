{
  "nbformat": 4,
  "nbformat_minor": 0,
  "metadata": {
    "colab": {
      "name": "Bản sao của Lab1.ipynb",
      "provenance": [],
      "authorship_tag": "ABX9TyOEnrX9Lf6eMCPxxUwz5bvL"
    },
    "kernelspec": {
      "name": "python3",
      "display_name": "Python 3"
    },
    "language_info": {
      "name": "python"
    }
  },
  "cells": [
    {
      "cell_type": "markdown",
      "metadata": {
        "id": "PAEN6KU0LfTW"
      },
      "source": [
        "Bài tập chương 3."
      ]
    },
    {
      "cell_type": "markdown",
      "metadata": {
        "id": "IXvqnJQJLmkg"
      },
      "source": [
        "1."
      ]
    },
    {
      "cell_type": "code",
      "metadata": {
        "colab": {
          "base_uri": "https://localhost:8080/"
        },
        "id": "o0vFNgy4GU7M",
        "outputId": "dab0eb22-b0d2-4430-a25b-a5029036d02f"
      },
      "source": [
        " min(2, 3, 4)"
      ],
      "execution_count": 1,
      "outputs": [
        {
          "output_type": "execute_result",
          "data": {
            "text/plain": [
              "2"
            ]
          },
          "metadata": {},
          "execution_count": 1
        }
      ]
    },
    {
      "cell_type": "code",
      "metadata": {
        "colab": {
          "base_uri": "https://localhost:8080/"
        },
        "id": "RlegamlgObHv",
        "outputId": "8832fe9c-ddb6-4a87-8d5f-003b360f9a41"
      },
      "source": [
        "max(2, -3, 4, 7, -5)"
      ],
      "execution_count": 2,
      "outputs": [
        {
          "output_type": "execute_result",
          "data": {
            "text/plain": [
              "7"
            ]
          },
          "metadata": {},
          "execution_count": 2
        }
      ]
    },
    {
      "cell_type": "code",
      "metadata": {
        "colab": {
          "base_uri": "https://localhost:8080/"
        },
        "id": "fL9wOH7cOdOG",
        "outputId": "4c7023c5-847e-48ea-d400-94c3d1902532"
      },
      "source": [
        "max(2, -3, min(4, 7), -5)"
      ],
      "execution_count": 3,
      "outputs": [
        {
          "output_type": "execute_result",
          "data": {
            "text/plain": [
              "4"
            ]
          },
          "metadata": {},
          "execution_count": 3
        }
      ]
    },
    {
      "cell_type": "markdown",
      "metadata": {
        "id": "FDCqC6qzOo-m"
      },
      "source": [
        "2."
      ]
    },
    {
      "cell_type": "code",
      "metadata": {
        "colab": {
          "base_uri": "https://localhost:8080/"
        },
        "id": "iOIN6fgXOs6m",
        "outputId": "bb643303-6b9c-47d5-a80b-2f6950e1ab46"
      },
      "source": [
        " min(max(3, 4), abs(-5))"
      ],
      "execution_count": 4,
      "outputs": [
        {
          "output_type": "execute_result",
          "data": {
            "text/plain": [
              "4"
            ]
          },
          "metadata": {},
          "execution_count": 4
        }
      ]
    },
    {
      "cell_type": "code",
      "metadata": {
        "colab": {
          "base_uri": "https://localhost:8080/"
        },
        "id": "PI5ZpeBEOzku",
        "outputId": "4422420b-bf77-4964-a644-3c810fb79719"
      },
      "source": [
        "abs(min(4, 6, max(2, 8)))"
      ],
      "execution_count": 5,
      "outputs": [
        {
          "output_type": "execute_result",
          "data": {
            "text/plain": [
              "4"
            ]
          },
          "metadata": {},
          "execution_count": 5
        }
      ]
    },
    {
      "cell_type": "code",
      "metadata": {
        "colab": {
          "base_uri": "https://localhost:8080/"
        },
        "id": "wtLwmXoYO-CP",
        "outputId": "fde4f0ef-d2f1-45f4-e846-b7468fde11ac"
      },
      "source": [
        "round(max(5.572, 3.258), abs(-2))"
      ],
      "execution_count": 6,
      "outputs": [
        {
          "output_type": "execute_result",
          "data": {
            "text/plain": [
              "5.57"
            ]
          },
          "metadata": {},
          "execution_count": 6
        }
      ]
    },
    {
      "cell_type": "markdown",
      "metadata": {
        "id": "ftPMtCu_PF7G"
      },
      "source": [
        "3.\n"
      ]
    },
    {
      "cell_type": "code",
      "metadata": {
        "colab": {
          "base_uri": "https://localhost:8080/"
        },
        "id": "VNeBYrNWPHn_",
        "outputId": "71b2dd73-e797-4cc7-ca36-b2743b679f5f"
      },
      "source": [
        "def triple(num):\n",
        " \"\"\" (number) -> number\n",
        " Return num tripled.\n",
        " >>> triple(3)\n",
        " 9\n",
        " \"\"\"\n",
        " return num * 3\n",
        "triple(5)"
      ],
      "execution_count": 7,
      "outputs": [
        {
          "output_type": "execute_result",
          "data": {
            "text/plain": [
              "15"
            ]
          },
          "metadata": {},
          "execution_count": 7
        }
      ]
    },
    {
      "cell_type": "markdown",
      "metadata": {
        "id": "fFoTzgCdPi_H"
      },
      "source": [
        "4.\n"
      ]
    },
    {
      "cell_type": "code",
      "metadata": {
        "id": "uJYR00vqSaU_",
        "colab": {
          "base_uri": "https://localhost:8080/"
        },
        "outputId": "83580667-37fe-4382-dfc9-3193527f4a4d"
      },
      "source": [
        "def absolute_difference(number1, number2):\n",
        "  \"\"\" (number, number) -> number\n",
        " Return the absolute value of the difference between number1\n",
        " and number2.\n",
        " >>> absolute_difference(3, 7)\n",
        " 4\n",
        " \"\"\"\n",
        "  return abs(number1 - number2)\n",
        "absolute_difference(2,1)"
      ],
      "execution_count": 8,
      "outputs": [
        {
          "output_type": "execute_result",
          "data": {
            "text/plain": [
              "1"
            ]
          },
          "metadata": {},
          "execution_count": 8
        }
      ]
    },
    {
      "cell_type": "markdown",
      "metadata": {
        "id": "GeNTrcF6DTJK"
      },
      "source": [
        "5."
      ]
    },
    {
      "cell_type": "code",
      "metadata": {
        "colab": {
          "base_uri": "https://localhost:8080/"
        },
        "id": "auHDTOAXDU0u",
        "outputId": "39656e89-9ebd-4bb0-92c5-d898e9934b8c"
      },
      "source": [
        "def km_to_miles(km):\n",
        " \"\"\" (number) -> float\n",
        " Return the distance km in miles.\n",
        " >>> km_to_miles(5)\n",
        " 3.125\n",
        " \"\"\"\n",
        " return km / 1.6\n",
        "km_to_miles(10)"
      ],
      "execution_count": 9,
      "outputs": [
        {
          "output_type": "execute_result",
          "data": {
            "text/plain": [
              "6.25"
            ]
          },
          "metadata": {},
          "execution_count": 9
        }
      ]
    },
    {
      "cell_type": "markdown",
      "metadata": {
        "id": "Q9cVCf1LDbUB"
      },
      "source": [
        "6."
      ]
    },
    {
      "cell_type": "code",
      "metadata": {
        "colab": {
          "base_uri": "https://localhost:8080/"
        },
        "id": "q-OrcjCIDeaY",
        "outputId": "f0a6c538-a189-4cc9-b77a-7c7043330f8c"
      },
      "source": [
        "def average_grade(grade1, grade2, grade3):\n",
        " \"\"\" (number, number, number) -> number\n",
        " Return the average of the grade1, grade2, and grade3, where\n",
        " each grade ranges from 0 to 100, inclusive.\n",
        " >>> average_grade(80, 95, 90)\n",
        " 88.33333333333333\n",
        " \"\"\"\n",
        " return (grade1 + grade2 + grade3) / 3\n",
        "average_grade(3,6,1)"
      ],
      "execution_count": 10,
      "outputs": [
        {
          "output_type": "execute_result",
          "data": {
            "text/plain": [
              "3.3333333333333335"
            ]
          },
          "metadata": {},
          "execution_count": 10
        }
      ]
    },
    {
      "cell_type": "markdown",
      "metadata": {
        "id": "-XjpgiG3Dup6"
      },
      "source": [
        "7."
      ]
    },
    {
      "cell_type": "code",
      "metadata": {
        "colab": {
          "base_uri": "https://localhost:8080/"
        },
        "id": "7nErhERuDv4b",
        "outputId": "fac9c0a6-f2f9-43a3-aa5e-f0f5b449aacb"
      },
      "source": [
        "def top_three_avg(grade1, grade2, grade3, grade4):\n",
        " \"\"\" (number, number, number, number) -> number\n",
        " Return the average of the top three of grades grade1, grade2,\n",
        " grade3, and grade4.\n",
        " >>> top_three_avg(50, 60, 70, 80)\n",
        " 70\n",
        " \"\"\"\n",
        " # Here is one solution that does not use average_grade from Q6.\n",
        " total = grade1 + grade2 + grade3 + grade4\n",
        " top_three = total - min(grade1, grade2, grade3, grade4)\n",
        " return top_three / 3\n",
        " # Here is a different solution that does use the function from Q6.\n",
        " return max(average_grade(grade1, grade2, grade3),\n",
        " average_grade(grade1, grade2, grade4),\n",
        " average_grade(grade1, grade3, grade4),\n",
        " average_grade(grade2, grade3, grade4))\n",
        " return (grade1 + grade2 + grade3) / 3\n",
        "top_three_avg(4,6,3,8)"
      ],
      "execution_count": 11,
      "outputs": [
        {
          "output_type": "execute_result",
          "data": {
            "text/plain": [
              "6.0"
            ]
          },
          "metadata": {},
          "execution_count": 11
        }
      ]
    },
    {
      "cell_type": "markdown",
      "metadata": {
        "id": "3JH03R87D-3O"
      },
      "source": [
        "8."
      ]
    },
    {
      "cell_type": "code",
      "metadata": {
        "colab": {
          "base_uri": "https://localhost:8080/"
        },
        "id": "9ymeVq7SEBNV",
        "outputId": "aef2ae98-d532-400b-b5fa-4a88fe0f8063"
      },
      "source": [
        "def weeks_elapsed(day1, day2):\n",
        "  \"\"\"(int, int) -> int\n",
        "day1 and day2 are days in the same year. Return the number of full weeks\n",
        "that have elapsed between the two days.\n",
        ">>> weeks_elapsed(3, 20)\n",
        "2\n",
        ">>> weeks_elapsed(20, 3)\n",
        "2\n",
        ">>> weeks_elapsed(8, 5)\n",
        ">>> weeks_elapsed(40, 61)\n",
        "\"\"\"\n",
        "  if day1 and day2 <= 31:\n",
        "    return abs((day1-day2))//7\n",
        "weeks_elapsed(1,15)"
      ],
      "execution_count": 12,
      "outputs": [
        {
          "output_type": "execute_result",
          "data": {
            "text/plain": [
              "2"
            ]
          },
          "metadata": {},
          "execution_count": 12
        }
      ]
    },
    {
      "cell_type": "markdown",
      "metadata": {
        "id": "hXkOyc0NJTG0"
      },
      "source": [
        "9."
      ]
    },
    {
      "cell_type": "code",
      "metadata": {
        "colab": {
          "base_uri": "https://localhost:8080/"
        },
        "id": "0KbAIrwbJU1A",
        "outputId": "1cd31393-852d-4403-e241-e0c2664e5e71"
      },
      "source": [
        "def square(num):\n",
        "  \"\"\" (number) -> number\n",
        "Return the square of num.\n",
        ">>> square(3)\n",
        "9\n",
        "\"\"\"\n",
        "  return num**2\n",
        "square(8)\n"
      ],
      "execution_count": 13,
      "outputs": [
        {
          "output_type": "execute_result",
          "data": {
            "text/plain": [
              "64"
            ]
          },
          "metadata": {},
          "execution_count": 13
        }
      ]
    },
    {
      "cell_type": "markdown",
      "metadata": {
        "id": "WxBSR3nUKepf"
      },
      "source": [
        "Bài tập chương 6.\n"
      ]
    },
    {
      "cell_type": "markdown",
      "metadata": {
        "id": "717xojLrLVmv"
      },
      "source": [
        "1."
      ]
    },
    {
      "cell_type": "code",
      "metadata": {
        "colab": {
          "base_uri": "https://localhost:8080/"
        },
        "id": "h3ZBmTDFLUHo",
        "outputId": "b8bac824-a3b7-414f-f2be-d38adf12f0da"
      },
      "source": [
        "import math\n",
        "#câu a\n",
        "a=math.floor(-2.8)\n",
        "print(a)\n",
        "#câu b\n",
        "b=abs(round(-4.3))\n",
        "print(b)\n",
        "#câu c\n",
        "math.ceil(math.sin(34.5))"
      ],
      "execution_count": 14,
      "outputs": [
        {
          "output_type": "stream",
          "name": "stdout",
          "text": [
            "-3\n",
            "4\n"
          ]
        },
        {
          "output_type": "execute_result",
          "data": {
            "text/plain": [
              "1"
            ]
          },
          "metadata": {},
          "execution_count": 14
        }
      ]
    },
    {
      "cell_type": "markdown",
      "metadata": {
        "id": "almlGB6ANCYf"
      },
      "source": [
        "2."
      ]
    },
    {
      "cell_type": "code",
      "metadata": {
        "colab": {
          "base_uri": "https://localhost:8080/"
        },
        "id": "qqLOJG_pNDK8",
        "outputId": "8423ad52-10fb-424c-93f0-870db3b7bbca"
      },
      "source": [
        "#câu a\n",
        "import calendar\n",
        "#câu b\n",
        "help(calendar.isleap)\n",
        "#câu c\n",
        "calendar.isleap(2016)\n",
        "#câu d\n",
        "print(dir(calendar))\n",
        "#câu e\n",
        "print(calendar.leapdays(2000, 2050))\n",
        "#câu f\n",
        "calendar.weekday(2016, 7, 29)"
      ],
      "execution_count": 15,
      "outputs": [
        {
          "output_type": "stream",
          "name": "stdout",
          "text": [
            "Help on function isleap in module calendar:\n",
            "\n",
            "isleap(year)\n",
            "    Return True for leap years, False for non-leap years.\n",
            "\n",
            "['Calendar', 'EPOCH', 'FRIDAY', 'February', 'HTMLCalendar', 'IllegalMonthError', 'IllegalWeekdayError', 'January', 'LocaleHTMLCalendar', 'LocaleTextCalendar', 'MONDAY', 'SATURDAY', 'SUNDAY', 'THURSDAY', 'TUESDAY', 'TextCalendar', 'WEDNESDAY', '_EPOCH_ORD', '__all__', '__builtins__', '__cached__', '__doc__', '__file__', '__loader__', '__name__', '__package__', '__spec__', '_colwidth', '_locale', '_localized_day', '_localized_month', '_spacing', 'c', 'calendar', 'datetime', 'day_abbr', 'day_name', 'different_locale', 'error', 'firstweekday', 'format', 'formatstring', 'isleap', 'leapdays', 'main', 'mdays', 'month', 'month_abbr', 'month_name', 'monthcalendar', 'monthlen', 'monthrange', 'nextmonth', 'prcal', 'prevmonth', 'prmonth', 'prweek', 'repeat', 'setfirstweekday', 'sys', 'timegm', 'week', 'weekday', 'weekheader']\n",
            "13\n"
          ]
        },
        {
          "output_type": "execute_result",
          "data": {
            "text/plain": [
              "4"
            ]
          },
          "metadata": {},
          "execution_count": 15
        }
      ]
    },
    {
      "cell_type": "markdown",
      "metadata": {
        "id": "t_orDhtoOCoL"
      },
      "source": [
        "3."
      ]
    },
    {
      "cell_type": "code",
      "metadata": {
        "colab": {
          "base_uri": "https://localhost:8080/"
        },
        "id": "fPHaMkAZODg4",
        "outputId": "0704bf9d-1aa7-4f09-fc8c-5172ba562e4a"
      },
      "source": [
        "\n",
        "def average(num1: float, num2: float) -> float:\n",
        "  \"\"\"Return the average of num1 and num2.\n",
        ">>> average(10,20)\n",
        "15.0\n",
        ">>> average(2.5, 3.0)\n",
        "2.75\n",
        "\"\"\"\n",
        "  return num1 + num2 / 2\n",
        "average(10,20)"
      ],
      "execution_count": 16,
      "outputs": [
        {
          "output_type": "execute_result",
          "data": {
            "text/plain": [
              "20.0"
            ]
          },
          "metadata": {},
          "execution_count": 16
        }
      ]
    },
    {
      "cell_type": "markdown",
      "metadata": {
        "id": "r_wC9WDCEERR"
      },
      "source": [
        "Bài tập chương 7"
      ]
    },
    {
      "cell_type": "markdown",
      "metadata": {
        "id": "D7UsMZwjEHG0"
      },
      "source": [
        "1."
      ]
    },
    {
      "cell_type": "code",
      "metadata": {
        "id": "OlgGLBpJEIAr",
        "colab": {
          "base_uri": "https://localhost:8080/",
          "height": 35
        },
        "outputId": "9911e55f-3177-4046-e330-efd202e9501f"
      },
      "source": [
        " 'hello'.upper()"
      ],
      "execution_count": 17,
      "outputs": [
        {
          "output_type": "execute_result",
          "data": {
            "application/vnd.google.colaboratory.intrinsic+json": {
              "type": "string"
            },
            "text/plain": [
              "'HELLO'"
            ]
          },
          "metadata": {},
          "execution_count": 17
        }
      ]
    },
    {
      "cell_type": "code",
      "metadata": {
        "id": "Yo7l-XBZER0E",
        "colab": {
          "base_uri": "https://localhost:8080/",
          "height": 35
        },
        "outputId": "840178b0-c323-4cff-bfa8-da02484e55fe"
      },
      "source": [
        " 'Happy Birthday!'.lower()"
      ],
      "execution_count": 18,
      "outputs": [
        {
          "output_type": "execute_result",
          "data": {
            "application/vnd.google.colaboratory.intrinsic+json": {
              "type": "string"
            },
            "text/plain": [
              "'happy birthday!'"
            ]
          },
          "metadata": {},
          "execution_count": 18
        }
      ]
    },
    {
      "cell_type": "code",
      "metadata": {
        "id": "p0vb0Q-JEU4I",
        "colab": {
          "base_uri": "https://localhost:8080/",
          "height": 35
        },
        "outputId": "f8d1c131-7a29-4ffb-d232-6dbe6222a8fd"
      },
      "source": [
        " 'WeeeEEEEeeeEEEEeee'.swapcase()"
      ],
      "execution_count": 19,
      "outputs": [
        {
          "output_type": "execute_result",
          "data": {
            "application/vnd.google.colaboratory.intrinsic+json": {
              "type": "string"
            },
            "text/plain": [
              "'wEEEeeeeEEEeeeeEEE'"
            ]
          },
          "metadata": {},
          "execution_count": 19
        }
      ]
    },
    {
      "cell_type": "code",
      "metadata": {
        "id": "TP-ysOV_EXDP",
        "outputId": "cb523867-1ee4-4dae-e10e-2a01295fcda0",
        "colab": {
          "base_uri": "https://localhost:8080/"
        }
      },
      "source": [
        " 'ABC123'.isupper()"
      ],
      "execution_count": 20,
      "outputs": [
        {
          "output_type": "execute_result",
          "data": {
            "text/plain": [
              "True"
            ]
          },
          "metadata": {},
          "execution_count": 20
        }
      ]
    },
    {
      "cell_type": "code",
      "metadata": {
        "id": "KxtrwjKfEbVo",
        "outputId": "1f83b772-7866-46d1-8ad4-cfd864532066",
        "colab": {
          "base_uri": "https://localhost:8080/"
        }
      },
      "source": [
        " 'aeiouAEIOU'.count('a')"
      ],
      "execution_count": 21,
      "outputs": [
        {
          "output_type": "execute_result",
          "data": {
            "text/plain": [
              "1"
            ]
          },
          "metadata": {},
          "execution_count": 21
        }
      ]
    },
    {
      "cell_type": "code",
      "metadata": {
        "id": "obde1_ZoEelI",
        "colab": {
          "base_uri": "https://localhost:8080/"
        },
        "outputId": "06342c6a-7e63-4443-fb73-5239e1440bee"
      },
      "source": [
        "'hello'.endswith('o')"
      ],
      "execution_count": 22,
      "outputs": [
        {
          "output_type": "execute_result",
          "data": {
            "text/plain": [
              "True"
            ]
          },
          "metadata": {},
          "execution_count": 22
        }
      ]
    },
    {
      "cell_type": "code",
      "metadata": {
        "id": "il-EVcbLEimr",
        "colab": {
          "base_uri": "https://localhost:8080/"
        },
        "outputId": "42405183-21b2-4955-90cf-61cf95c653fe"
      },
      "source": [
        " 'hello'.startswith('H')"
      ],
      "execution_count": 23,
      "outputs": [
        {
          "output_type": "execute_result",
          "data": {
            "text/plain": [
              "False"
            ]
          },
          "metadata": {},
          "execution_count": 23
        }
      ]
    },
    {
      "cell_type": "code",
      "metadata": {
        "id": "CzbBP9JAEke-",
        "colab": {
          "base_uri": "https://localhost:8080/",
          "height": 35
        },
        "outputId": "e11566c3-ea4c-4664-cadf-2fc70d0150d6"
      },
      "source": [
        " 'Hello {0}'.format('Python')"
      ],
      "execution_count": 24,
      "outputs": [
        {
          "output_type": "execute_result",
          "data": {
            "application/vnd.google.colaboratory.intrinsic+json": {
              "type": "string"
            },
            "text/plain": [
              "'Hello Python'"
            ]
          },
          "metadata": {},
          "execution_count": 24
        }
      ]
    },
    {
      "cell_type": "code",
      "metadata": {
        "id": "Zb-5ms9YEmyF",
        "colab": {
          "base_uri": "https://localhost:8080/",
          "height": 35
        },
        "outputId": "a136217b-77fc-4418-e51c-5cd8277c33de"
      },
      "source": [
        " 'Hello {0}! Hello {1}!'.format('Python', 'World')"
      ],
      "execution_count": 25,
      "outputs": [
        {
          "output_type": "execute_result",
          "data": {
            "application/vnd.google.colaboratory.intrinsic+json": {
              "type": "string"
            },
            "text/plain": [
              "'Hello Python! Hello World!'"
            ]
          },
          "metadata": {},
          "execution_count": 25
        }
      ]
    },
    {
      "cell_type": "markdown",
      "metadata": {
        "id": "DppY_HfWEwzb"
      },
      "source": [
        "2."
      ]
    },
    {
      "cell_type": "code",
      "metadata": {
        "id": "OFtzk6cgExg3",
        "colab": {
          "base_uri": "https://localhost:8080/"
        },
        "outputId": "902c16ba-613e-4ff9-9c76-6307dc3efdf8"
      },
      "source": [
        "'tomato'.count('o')"
      ],
      "execution_count": 26,
      "outputs": [
        {
          "output_type": "execute_result",
          "data": {
            "text/plain": [
              "2"
            ]
          },
          "metadata": {},
          "execution_count": 26
        }
      ]
    },
    {
      "cell_type": "markdown",
      "metadata": {
        "id": "e_PM9t2LE-tk"
      },
      "source": [
        "3."
      ]
    },
    {
      "cell_type": "code",
      "metadata": {
        "id": "gOfsgUfaE_bA",
        "colab": {
          "base_uri": "https://localhost:8080/"
        },
        "outputId": "8d19dbbe-120a-4f61-cb89-d269c959d272"
      },
      "source": [
        "'tomato'.find('o')"
      ],
      "execution_count": 27,
      "outputs": [
        {
          "output_type": "execute_result",
          "data": {
            "text/plain": [
              "1"
            ]
          },
          "metadata": {},
          "execution_count": 27
        }
      ]
    },
    {
      "cell_type": "markdown",
      "metadata": {
        "id": "qZioGSd_FliE"
      },
      "source": [
        "4."
      ]
    },
    {
      "cell_type": "code",
      "metadata": {
        "id": "orAccRZ2FmW5",
        "colab": {
          "base_uri": "https://localhost:8080/"
        },
        "outputId": "c5b87f40-85a5-4a19-d375-c7bc187e21d5"
      },
      "source": [
        " 'tomato'.find('o', 'tomato'.find('o') + 1)"
      ],
      "execution_count": 28,
      "outputs": [
        {
          "output_type": "execute_result",
          "data": {
            "text/plain": [
              "5"
            ]
          },
          "metadata": {},
          "execution_count": 28
        }
      ]
    },
    {
      "cell_type": "markdown",
      "metadata": {
        "id": "4O3hKURzG0SC"
      },
      "source": [
        "5."
      ]
    },
    {
      "cell_type": "code",
      "metadata": {
        "id": "xMCYW0rtG1Dj",
        "outputId": "73a39653-abe9-4319-c6da-55b8cc87fdef",
        "colab": {
          "base_uri": "https://localhost:8080/"
        }
      },
      "source": [
        "'avocado'.find('o', 'avocado'.find('o') + 1)"
      ],
      "execution_count": 29,
      "outputs": [
        {
          "output_type": "execute_result",
          "data": {
            "text/plain": [
              "6"
            ]
          },
          "metadata": {},
          "execution_count": 29
        }
      ]
    },
    {
      "cell_type": "markdown",
      "metadata": {
        "id": "n9V1AYbtG5AW"
      },
      "source": [
        "6."
      ]
    },
    {
      "cell_type": "code",
      "metadata": {
        "id": "C3uvnOs3G5zb",
        "outputId": "e346f170-89de-4291-ee1d-39dde83d9aaa",
        "colab": {
          "base_uri": "https://localhost:8080/",
          "height": 35
        }
      },
      "source": [
        " 'runner'.replace('n', 'b')"
      ],
      "execution_count": 30,
      "outputs": [
        {
          "output_type": "execute_result",
          "data": {
            "application/vnd.google.colaboratory.intrinsic+json": {
              "type": "string"
            },
            "text/plain": [
              "'rubber'"
            ]
          },
          "metadata": {},
          "execution_count": 30
        }
      ]
    },
    {
      "cell_type": "markdown",
      "metadata": {
        "id": "D7m9sIhUHNlp"
      },
      "source": [
        "7.Variable s refers to ' yes '. When a string method is called with s as its\n",
        "argument, the string 'yes' is produced. Which string method was called?\n",
        "    =>strip"
      ]
    },
    {
      "cell_type": "markdown",
      "metadata": {
        "id": "sOrdfn7KHW5J"
      },
      "source": [
        "8."
      ]
    },
    {
      "cell_type": "code",
      "metadata": {
        "id": "AI7_bS5EHggB",
        "outputId": "c0843ab2-8bee-4830-97e2-240fc7646598",
        "colab": {
          "base_uri": "https://localhost:8080/"
        }
      },
      "source": [
        "fruit='pineapple'\n",
        "fruit.find('p')\n",
        "fruit.count('p')"
      ],
      "execution_count": 35,
      "outputs": [
        {
          "output_type": "execute_result",
          "data": {
            "text/plain": [
              "3"
            ]
          },
          "metadata": {},
          "execution_count": 35
        }
      ]
    },
    {
      "cell_type": "code",
      "metadata": {
        "id": "yQmoBGMbHi5y"
      },
      "source": [
        "fruit.upper() then 'PINEAPPLE'.swapcase() then fruit.count('pineapple')"
      ],
      "execution_count": null,
      "outputs": []
    },
    {
      "cell_type": "code",
      "metadata": {
        "id": "owhzntK0HkpK"
      },
      "source": [
        "fruit.swapcase() then fruit.lower() then fruit.replace('PINEAPPLE', 'pineapple')"
      ],
      "execution_count": null,
      "outputs": []
    },
    {
      "cell_type": "markdown",
      "metadata": {
        "id": "Mwb-50aYHnp6"
      },
      "source": [
        "9."
      ]
    },
    {
      "cell_type": "code",
      "metadata": {
        "id": "5aJhPm0_Hofp",
        "outputId": "95baefb9-f052-483c-b466-59a158909702",
        "colab": {
          "base_uri": "https://localhost:8080/",
          "height": 162
        }
      },
      "source": [
        "'I love {0}!'.format(season)"
      ],
      "execution_count": 36,
      "outputs": [
        {
          "output_type": "error",
          "ename": "NameError",
          "evalue": "ignored",
          "traceback": [
            "\u001b[0;31m---------------------------------------------------------------------------\u001b[0m",
            "\u001b[0;31mNameError\u001b[0m                                 Traceback (most recent call last)",
            "\u001b[0;32m<ipython-input-36-3002d6033cd6>\u001b[0m in \u001b[0;36m<module>\u001b[0;34m()\u001b[0m\n\u001b[0;32m----> 1\u001b[0;31m \u001b[0;34m'I love {0}!'\u001b[0m\u001b[0;34m.\u001b[0m\u001b[0mformat\u001b[0m\u001b[0;34m(\u001b[0m\u001b[0mseason\u001b[0m\u001b[0;34m)\u001b[0m\u001b[0;34m\u001b[0m\u001b[0;34m\u001b[0m\u001b[0m\n\u001b[0m",
            "\u001b[0;31mNameError\u001b[0m: name 'season' is not defined"
          ]
        }
      ]
    },
    {
      "cell_type": "markdown",
      "metadata": {
        "id": "MTJ6MSHhH5eh"
      },
      "source": [
        "10."
      ]
    },
    {
      "cell_type": "code",
      "metadata": {
        "id": "OWcZGDgbH6dy"
      },
      "source": [
        "'The sides have lengths {0}, {1}, and {2}.'.format(side1, side2, side3)"
      ],
      "execution_count": null,
      "outputs": []
    },
    {
      "cell_type": "markdown",
      "metadata": {
        "id": "xyN2VovhIABi"
      },
      "source": [
        "11."
      ]
    },
    {
      "cell_type": "code",
      "metadata": {
        "id": "0vQj_EOrIA2R"
      },
      "source": [
        "'boolean'.capitalize()"
      ],
      "execution_count": null,
      "outputs": []
    },
    {
      "cell_type": "code",
      "metadata": {
        "id": "_wGuFVz1IBp0"
      },
      "source": [
        "'CO2 H2O'.find('2')"
      ],
      "execution_count": null,
      "outputs": []
    },
    {
      "cell_type": "code",
      "metadata": {
        "id": "uYCIxAJ9IEg6"
      },
      "source": [
        "'CO2 H2O'.find('2', 'CO2 H2O'.find('2') + 1)"
      ],
      "execution_count": null,
      "outputs": []
    },
    {
      "cell_type": "code",
      "metadata": {
        "id": "mGfTG4bnIGQk"
      },
      "source": [
        "'Boolean'[0].islower()"
      ],
      "execution_count": null,
      "outputs": []
    },
    {
      "cell_type": "code",
      "metadata": {
        "id": "6H_ilh5gIIHQ"
      },
      "source": [
        "\"MoNDaY\".lower().capitalize()"
      ],
      "execution_count": null,
      "outputs": []
    },
    {
      "cell_type": "code",
      "metadata": {
        "id": "yu_W4R1BILSL"
      },
      "source": [
        "\" Monday\".lstrip()"
      ],
      "execution_count": null,
      "outputs": []
    },
    {
      "cell_type": "markdown",
      "metadata": {
        "id": "FdHEGcPwITC4"
      },
      "source": [
        "12."
      ]
    },
    {
      "cell_type": "code",
      "metadata": {
        "id": "Ye22Gi4JITtG"
      },
      "source": [
        "def total_occurrences(s1, s2, ch):\n",
        "  \"\"\" (str, str, str) -> int\n",
        "\n",
        "Precondition: len(ch) == 1\n",
        "\n",
        "Return the total number of times that ch occurs in s1 and s2.\n",
        "\n",
        ">>> total_occurrences('color', 'yellow', 'l')\n",
        "3\n",
        ">>> total_occurrences('red', 'blue', 'l')\n",
        "1\n",
        ">>> total_occurrences('green', 'purple', 'b')\n",
        "0\n",
        "\"\"\"\n",
        "  return s1.count(ch) + s2.count(ch)"
      ],
      "execution_count": null,
      "outputs": []
    }
  ]
}