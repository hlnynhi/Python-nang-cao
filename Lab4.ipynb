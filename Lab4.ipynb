{
  "nbformat": 4,
  "nbformat_minor": 0,
  "metadata": {
    "colab": {
      "name": "Lab4.ipynb",
      "provenance": [],
      "collapsed_sections": [],
      "authorship_tag": "ABX9TyPw0zED85FPOIozxV9tdEJG",
      "include_colab_link": true
    },
    "kernelspec": {
      "name": "python3",
      "display_name": "Python 3"
    },
    "language_info": {
      "name": "python"
    }
  },
  "cells": [
    {
      "cell_type": "markdown",
      "metadata": {
        "id": "view-in-github",
        "colab_type": "text"
      },
      "source": [
        "<a href=\"https://colab.research.google.com/github/hlnynhi/Python-nang-cao/blob/main/Lab4.ipynb\" target=\"_parent\"><img src=\"https://colab.research.google.com/assets/colab-badge.svg\" alt=\"Open In Colab\"/></a>"
      ]
    },
    {
      "cell_type": "markdown",
      "metadata": {
        "id": "DoN4YO7u6vOW"
      },
      "source": [
        "Bài tập chương 11"
      ]
    },
    {
      "cell_type": "markdown",
      "metadata": {
        "id": "XSHgqcWE63nx"
      },
      "source": [
        "1."
      ]
    },
    {
      "cell_type": "code",
      "metadata": {
        "colab": {
          "base_uri": "https://localhost:8080/"
        },
        "id": "Z61HIxyN5mjZ",
        "outputId": "34636539-1c2b-4e45-c869-a09376bfa6b1"
      },
      "source": [
        "def find_dups(givenList):\n",
        "  elem_set = set()\n",
        "  dups_set = set()\n",
        "  for entry in givenList:\n",
        "    len_initial = len(elem_set)\n",
        "    elem_set.add(entry)\n",
        "    len_after = len(elem_set)\n",
        "    if len_initial == len_after:\n",
        "      dups_set.add(entry)\n",
        "  return(dups_set)\n",
        "find_dups([1, 1, 2, 3, 4, 5, 5, 2])"
      ],
      "execution_count": null,
      "outputs": [
        {
          "output_type": "execute_result",
          "data": {
            "text/plain": [
              "{1, 2, 5}"
            ]
          },
          "metadata": {},
          "execution_count": 1
        }
      ]
    },
    {
      "cell_type": "markdown",
      "metadata": {
        "id": "mesG7wCg59Mh"
      },
      "source": [
        "2."
      ]
    },
    {
      "cell_type": "code",
      "metadata": {
        "colab": {
          "base_uri": "https://localhost:8080/"
        },
        "id": "lAnxaAWN58N7",
        "outputId": "6ba8b127-aa53-4e9f-ab7e-d90cc04be4b2"
      },
      "source": [
        "def mating_pairs(males, females):\n",
        "  pairs = set()\n",
        "  num_gerbils = len(males)\n",
        "  for i in range(num_gerbils):\n",
        "    male = males.pop()\n",
        "    female = females.pop()\n",
        "    pairs.add((male, female),)\n",
        "  return pairs\n",
        "mating_pairs({'Male1', 'Male2', 'Male3'}, {'Female1', 'Female2', 'Female3'})"
      ],
      "execution_count": null,
      "outputs": [
        {
          "output_type": "execute_result",
          "data": {
            "text/plain": [
              "{('Male1', 'Female2'), ('Male2', 'Female3'), ('Male3', 'Female1')}"
            ]
          },
          "metadata": {},
          "execution_count": 2
        }
      ]
    },
    {
      "cell_type": "markdown",
      "metadata": {
        "id": "szISkDMc6-u4"
      },
      "source": [
        "4."
      ]
    },
    {
      "cell_type": "code",
      "metadata": {
        "id": "L3AYo_4k6_-O"
      },
      "source": [
        "def get_authors(filenames):\n",
        "  authors = set()\n",
        "  for filename in filenames:\n",
        "    pdb_file = open(filename)\n",
        "    for line in pdb_file:\n",
        "      if line.lower().startswith('author'):\n",
        "        author = line[6:].strip()\n",
        "        authors.add(author)\n",
        "  return authors"
      ],
      "execution_count": null,
      "outputs": []
    },
    {
      "cell_type": "markdown",
      "metadata": {
        "id": "qmjixgKe9KCh"
      },
      "source": [
        "5."
      ]
    },
    {
      "cell_type": "code",
      "metadata": {
        "colab": {
          "base_uri": "https://localhost:8080/"
        },
        "id": "3YwSJ0Py9K0Y",
        "outputId": "7a96d899-65f5-4f7f-97df-b1423c5b80e5"
      },
      "source": [
        "def count_values(dictionary):\n",
        "  return len(set(dictionary.values()))\n",
        "count_values({'red': 1, 'green': 2, 'blue': 2})"
      ],
      "execution_count": null,
      "outputs": [
        {
          "output_type": "execute_result",
          "data": {
            "text/plain": [
              "2"
            ]
          },
          "metadata": {},
          "execution_count": 4
        }
      ]
    },
    {
      "cell_type": "markdown",
      "metadata": {
        "id": "40x2oFBs9OzY"
      },
      "source": [
        "6."
      ]
    },
    {
      "cell_type": "code",
      "metadata": {
        "colab": {
          "base_uri": "https://localhost:8080/",
          "height": 35
        },
        "id": "vsYmNmYj9Pl5",
        "outputId": "cffc2dcd-846c-45f7-a3bb-8a9698702bf2"
      },
      "source": [
        "def least_likely(particle_to_probability):\n",
        "  smallest = 1\n",
        "  name = ''\n",
        "  for particle in particle_to_probability:\n",
        "    probability = particle_to_probability[particle]\n",
        "    if probability < smallest:\n",
        "      smallest = probability\n",
        "      name = particle\n",
        "  return name\n",
        "least_likely({'neutron': 0.55, 'proton': 0.21, 'meson': 0.03, 'muon': 0.07, 'neutrino': 0.14})"
      ],
      "execution_count": null,
      "outputs": [
        {
          "output_type": "execute_result",
          "data": {
            "application/vnd.google.colaboratory.intrinsic+json": {
              "type": "string"
            },
            "text/plain": [
              "'meson'"
            ]
          },
          "metadata": {},
          "execution_count": 5
        }
      ]
    },
    {
      "cell_type": "markdown",
      "metadata": {
        "id": "HNtnrkcm9UdY"
      },
      "source": [
        "7."
      ]
    },
    {
      "cell_type": "code",
      "metadata": {
        "colab": {
          "base_uri": "https://localhost:8080/"
        },
        "id": "i24SdnVQ9VK_",
        "outputId": "30fb3505-9e1c-4811-a8b3-507b5c43f0af"
      },
      "source": [
        "def count_duplicates(dictionary):\n",
        "  duplicates = 0\n",
        "  values = list(dictionary.values())\n",
        "  for item in values:\n",
        "    if values.count(item) >= 2:\n",
        "      duplicates = duplicates + 1\n",
        "      num_occurrences = values.count(item)\n",
        "      for i in range(num_occurrences):\n",
        "        values.remove(item)\n",
        "  return duplicates\n",
        "count_duplicates({'R': 1, 'G': 2, 'B': 2, 'Y': 1, 'P': 3})"
      ],
      "execution_count": null,
      "outputs": [
        {
          "output_type": "execute_result",
          "data": {
            "text/plain": [
              "2"
            ]
          },
          "metadata": {},
          "execution_count": 6
        }
      ]
    },
    {
      "cell_type": "markdown",
      "metadata": {
        "id": "hEJGiOtn9YJA"
      },
      "source": [
        "8."
      ]
    },
    {
      "cell_type": "code",
      "metadata": {
        "colab": {
          "base_uri": "https://localhost:8080/"
        },
        "id": "7ranEHxE9Y34",
        "outputId": "f9c097e5-6096-4517-ab7a-0dab0936722d"
      },
      "source": [
        "def is_balanced(color_to_factor):\n",
        "  values = list(color_to_factor.values())\n",
        "  total = sum(values)\n",
        "  return total == 1.0\n",
        "is_balanced({'R': 0.5, 'G': 0.4, 'B': 0.7})"
      ],
      "execution_count": null,
      "outputs": [
        {
          "output_type": "execute_result",
          "data": {
            "text/plain": [
              "False"
            ]
          },
          "metadata": {},
          "execution_count": 7
        }
      ]
    },
    {
      "cell_type": "markdown",
      "metadata": {
        "id": "aDIFBHHv9bOa"
      },
      "source": [
        "9."
      ]
    },
    {
      "cell_type": "code",
      "metadata": {
        "colab": {
          "base_uri": "https://localhost:8080/"
        },
        "id": "aY4qIe169b3w",
        "outputId": "2c53b3f0-a405-4e7d-e118-8a4c6d70a1f5"
      },
      "source": [
        "def dict_interest(dict1, dict2):\n",
        "  intersection = {}\n",
        "  for (key, value) in dict1.items():\n",
        "    if key in dict2 and value == dict2[key]:\n",
        "      intersection[key] = value\n",
        "  return intersection\n",
        "dict_interest({'a': 1, 'b': 2, 'c': 3}, {'a': 1, 'd': 2, 'b': 2})"
      ],
      "execution_count": null,
      "outputs": [
        {
          "output_type": "execute_result",
          "data": {
            "text/plain": [
              "{'a': 1, 'b': 2}"
            ]
          },
          "metadata": {},
          "execution_count": 8
        }
      ]
    },
    {
      "cell_type": "markdown",
      "metadata": {
        "id": "Dj6fPkLP9eE4"
      },
      "source": [
        "10."
      ]
    },
    {
      "cell_type": "code",
      "metadata": {
        "colab": {
          "base_uri": "https://localhost:8080/"
        },
        "id": "LXU5Zxnh9g3B",
        "outputId": "1ab1fe89-08b4-4d66-9584-5ba8c9e171ab"
      },
      "source": [
        "def db_headings(dict_of_dict):\n",
        "  inner_keys = set()\n",
        "  for key in dict_of_dict:\n",
        "    for inner_key in dict_of_dict[key]:\n",
        "      inner_keys.add(inner_key)\n",
        "  return inner_keys\n",
        "db_headings({'A': {1: 'a', 2: 'b'}, 'B': {2: 'c', 3: 'd'}})"
      ],
      "execution_count": null,
      "outputs": [
        {
          "output_type": "execute_result",
          "data": {
            "text/plain": [
              "{1, 2, 3}"
            ]
          },
          "metadata": {},
          "execution_count": 9
        }
      ]
    },
    {
      "cell_type": "markdown",
      "metadata": {
        "id": "yjTNCHMu9kDp"
      },
      "source": [
        "11."
      ]
    },
    {
      "cell_type": "code",
      "metadata": {
        "colab": {
          "base_uri": "https://localhost:8080/"
        },
        "id": "GIFOM2Zf9kvS",
        "outputId": "36b79173-7efa-4a14-f4b8-3037f4bf30e3"
      },
      "source": [
        "def db_consistent(dict_of_dict):\n",
        "  inner_keys_list = []\n",
        "  # Build a list of list of keys\n",
        "  for key in dict_of_dict:\n",
        "    inner_keys = list(dict_of_dict[key].keys())\n",
        "    inner_keys.sort()\n",
        "    inner_keys_list.append(inner_keys)\n",
        "  for i in range(1, len(inner_keys_list)):\n",
        "    # If the number of keys is different.\n",
        "    if len(inner_keys_list[0]) != len(inner_keys_list[i]):\n",
        "      return False\n",
        "    # If the keys don't match.\n",
        "    for j in range(len(inner_keys_list[0])):\n",
        "      if inner_keys_list[0][j] != inner_keys_list[i][j]:\n",
        "        return False\n",
        "  return True\n",
        "db_consistent({'A': {1: 'a', 2: 'b'}, 'B': {2: 'c', 3: 'd'}})"
      ],
      "execution_count": null,
      "outputs": [
        {
          "output_type": "execute_result",
          "data": {
            "text/plain": [
              "False"
            ]
          },
          "metadata": {},
          "execution_count": 10
        }
      ]
    },
    {
      "cell_type": "markdown",
      "metadata": {
        "id": "u_h0Wkyq9mhR"
      },
      "source": [
        "12."
      ]
    },
    {
      "cell_type": "code",
      "metadata": {
        "colab": {
          "base_uri": "https://localhost:8080/"
        },
        "id": "2BtHz-4W9pZx",
        "outputId": "05dae318-488b-49c2-daf8-c05a95f3ea57"
      },
      "source": [
        "def sparse_add(vector1, vector2):\n",
        "  sum_vector = vector1.copy()\n",
        "  for key in vector2:\n",
        "    if key in sum_vector:\n",
        "      sum_vector[key] = sum_vector[key] + vector2[key]\n",
        "    else:\n",
        "      sum_vector[key] = vector2[key]\n",
        "  return sum_vector\n",
        "sparse_add({1: 3, 3: 4}, {2: 4, 3: 5, 5: 6})"
      ],
      "execution_count": null,
      "outputs": [
        {
          "output_type": "execute_result",
          "data": {
            "text/plain": [
              "{1: 3, 2: 4, 3: 9, 5: 6}"
            ]
          },
          "metadata": {},
          "execution_count": 11
        }
      ]
    },
    {
      "cell_type": "code",
      "metadata": {
        "colab": {
          "base_uri": "https://localhost:8080/"
        },
        "id": "gR8Sq5K_9tXS",
        "outputId": "e20a303a-b0d0-471b-d0e9-38344a045b64"
      },
      "source": [
        "\n",
        "def sparse_dot(vector1, vector2):\n",
        "  dot = 0\n",
        "  for key1 in vector1:\n",
        "    if key1 in vector2:\n",
        "      dot = dot + vector1[key1] * vector2[key1]\n",
        "  return dot\n",
        "sparse_dot({1: 3, 3: 4}, {2: 4, 3: 5, 5: 6})"
      ],
      "execution_count": null,
      "outputs": [
        {
          "output_type": "execute_result",
          "data": {
            "text/plain": [
              "20"
            ]
          },
          "metadata": {},
          "execution_count": 12
        }
      ]
    }
  ]
}