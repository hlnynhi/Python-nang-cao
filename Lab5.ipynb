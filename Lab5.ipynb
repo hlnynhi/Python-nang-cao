{
  "nbformat": 4,
  "nbformat_minor": 0,
  "metadata": {
    "colab": {
      "name": "Lab5.ipynb",
      "provenance": [],
      "authorship_tag": "ABX9TyOyXZFRw8yDyywdM/W9GDln",
      "include_colab_link": true
    },
    "kernelspec": {
      "name": "python3",
      "display_name": "Python 3"
    },
    "language_info": {
      "name": "python"
    }
  },
  "cells": [
    {
      "cell_type": "markdown",
      "metadata": {
        "id": "view-in-github",
        "colab_type": "text"
      },
      "source": [
        "<a href=\"https://colab.research.google.com/github/hlnynhi/Python-nang-cao/blob/main/Lab5.ipynb\" target=\"_parent\"><img src=\"https://colab.research.google.com/assets/colab-badge.svg\" alt=\"Open In Colab\"/></a>"
      ]
    },
    {
      "cell_type": "code",
      "metadata": {
        "id": "E300QgjVe2SQ"
      },
      "source": [
        "class Country:\n",
        "    def __init__ (self, name:str, population:int,area:float):\n",
        "        self.name=name\n",
        "        self.population=population\n",
        "        self.area=area\n",
        "\n",
        "    def is_larger(self,other):\n",
        "        if (self.area>other.area):\n",
        "            return True\n",
        "        else:\n",
        "            return False\n",
        "    def population_desity(self):\n",
        "        return self.population/self.area\n",
        "\n",
        "    def __str__ (self):\n",
        "        return ('{} has a population of {} and is {} sqare km'.format(self.name, self.population, self.area))\n",
        "\n",
        "    def __repr__(self):\n",
        "        return (\"Country('{0}', {1}, {2})\".format(self.name, self.population, self.area))\n",
        "\n"
      ],
      "execution_count": 1,
      "outputs": []
    },
    {
      "cell_type": "code",
      "metadata": {
        "colab": {
          "base_uri": "https://localhost:8080/"
        },
        "id": "UxeQJSwSnO3s",
        "outputId": "696f7316-0504-4d22-861c-b730a8b14825"
      },
      "source": [
        "#câu a\n",
        "canada = Country(\"Canada\", 34482779, 9984670)\n",
        "usa = Country('United States of America', 313914040, 9826675)\n",
        "print(canada.name)\n",
        "print(canada.population)\n",
        "print(canada.area)"
      ],
      "execution_count": 2,
      "outputs": [
        {
          "output_type": "stream",
          "name": "stdout",
          "text": [
            "Canada\n",
            "34482779\n",
            "9984670\n"
          ]
        }
      ]
    },
    {
      "cell_type": "code",
      "metadata": {
        "colab": {
          "base_uri": "https://localhost:8080/"
        },
        "id": "VLVIAYy9nZeG",
        "outputId": "492d326c-4e8d-4164-e936-b7624a0b6354"
      },
      "source": [
        "#câu b\n",
        "print(canada.is_larger(usa))\n",
        "print(usa.is_larger(canada))"
      ],
      "execution_count": 3,
      "outputs": [
        {
          "output_type": "stream",
          "name": "stdout",
          "text": [
            "True\n",
            "False\n"
          ]
        }
      ]
    },
    {
      "cell_type": "code",
      "metadata": {
        "colab": {
          "base_uri": "https://localhost:8080/"
        },
        "id": "r-VBWDrWnmn1",
        "outputId": "81943d46-078e-4920-aca5-35d7013a6bd0"
      },
      "source": [
        "#câu c\n",
        "print(canada.population_desity())"
      ],
      "execution_count": 4,
      "outputs": [
        {
          "output_type": "stream",
          "name": "stdout",
          "text": [
            "3.4535722262227995\n"
          ]
        }
      ]
    },
    {
      "cell_type": "code",
      "metadata": {
        "colab": {
          "base_uri": "https://localhost:8080/"
        },
        "id": "xby8xmHbnpHs",
        "outputId": "d8e0714f-6d1a-40db-b456-721320ec84c7"
      },
      "source": [
        "#câu d\n",
        "usa = Country('United States of America', 313914040, 9826675)\n",
        "print(usa)"
      ],
      "execution_count": 5,
      "outputs": [
        {
          "output_type": "stream",
          "name": "stdout",
          "text": [
            "United States of America has a population of 313914040 and is 9826675 sqare km\n"
          ]
        }
      ]
    },
    {
      "cell_type": "code",
      "metadata": {
        "colab": {
          "base_uri": "https://localhost:8080/"
        },
        "id": "f3ej8ck4nsEt",
        "outputId": "b0105f67-8672-4747-87e8-f365b0702c20"
      },
      "source": [
        "#câu e\n",
        "canada = Country('Canada', 34482779, 9984670)\n",
        "print(canada)\n",
        "print([canada])"
      ],
      "execution_count": 6,
      "outputs": [
        {
          "output_type": "stream",
          "name": "stdout",
          "text": [
            "Canada has a population of 34482779 and is 9984670 sqare km\n",
            "[Country('Canada', 34482779, 9984670)]\n"
          ]
        }
      ]
    }
  ]
}