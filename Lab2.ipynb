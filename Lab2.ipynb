{
  "nbformat": 4,
  "nbformat_minor": 0,
  "metadata": {
    "colab": {
      "name": "Lab2.ipynb",
      "provenance": [],
      "authorship_tag": "ABX9TyNI3fBZ9Y5xSff9zgDPjEyk",
      "include_colab_link": true
    },
    "kernelspec": {
      "name": "python3",
      "display_name": "Python 3"
    },
    "language_info": {
      "name": "python"
    }
  },
  "cells": [
    {
      "cell_type": "markdown",
      "metadata": {
        "id": "view-in-github",
        "colab_type": "text"
      },
      "source": [
        "<a href=\"https://colab.research.google.com/github/hlnynhi/Python-nang-cao/blob/main/Lab2.ipynb\" target=\"_parent\"><img src=\"https://colab.research.google.com/assets/colab-badge.svg\" alt=\"Open In Colab\"/></a>"
      ]
    },
    {
      "cell_type": "markdown",
      "metadata": {
        "id": "8sRjs5MMUGwk"
      },
      "source": [
        "Bài tập chương 8\n"
      ]
    },
    {
      "cell_type": "markdown",
      "metadata": {
        "id": "t56BOhXAVMa0"
      },
      "source": [
        "1."
      ]
    },
    {
      "cell_type": "code",
      "metadata": {
        "colab": {
          "base_uri": "https://localhost:8080/",
          "height": 35
        },
        "id": "6X5ROsyVUKAL",
        "outputId": "13650fce-0e3a-4a41-9e56-71adcccc0179"
      },
      "source": [
        "kingdoms = ['Bacteria', 'Protozoa', 'Chromista', 'Plantae', 'Fungi', 'Animalia']\n",
        "kingdoms[0]"
      ],
      "execution_count": 1,
      "outputs": [
        {
          "output_type": "execute_result",
          "data": {
            "application/vnd.google.colaboratory.intrinsic+json": {
              "type": "string"
            },
            "text/plain": [
              "'Bacteria'"
            ]
          },
          "metadata": {},
          "execution_count": 1
        }
      ]
    },
    {
      "cell_type": "code",
      "metadata": {
        "colab": {
          "base_uri": "https://localhost:8080/",
          "height": 35
        },
        "id": "-J77kYs-U6dA",
        "outputId": "a7f41c0f-6ec4-4f6b-e01a-cd3cb721459b"
      },
      "source": [
        "kingdoms[5]"
      ],
      "execution_count": 2,
      "outputs": [
        {
          "output_type": "execute_result",
          "data": {
            "application/vnd.google.colaboratory.intrinsic+json": {
              "type": "string"
            },
            "text/plain": [
              "'Animalia'"
            ]
          },
          "metadata": {},
          "execution_count": 2
        }
      ]
    },
    {
      "cell_type": "code",
      "metadata": {
        "colab": {
          "base_uri": "https://localhost:8080/"
        },
        "id": "Ix0Sok_zU-sc",
        "outputId": "aa09dd8f-5874-4c55-8fe7-6e894bbc346f"
      },
      "source": [
        "kingdoms[:3]"
      ],
      "execution_count": 3,
      "outputs": [
        {
          "output_type": "execute_result",
          "data": {
            "text/plain": [
              "['Bacteria', 'Protozoa', 'Chromista']"
            ]
          },
          "metadata": {},
          "execution_count": 3
        }
      ]
    },
    {
      "cell_type": "code",
      "metadata": {
        "colab": {
          "base_uri": "https://localhost:8080/"
        },
        "id": "gycQVRXWVAoU",
        "outputId": "79027359-08c7-47f2-f7a8-2cb248500e88"
      },
      "source": [
        "kingdoms[2:5]"
      ],
      "execution_count": 4,
      "outputs": [
        {
          "output_type": "execute_result",
          "data": {
            "text/plain": [
              "['Chromista', 'Plantae', 'Fungi']"
            ]
          },
          "metadata": {},
          "execution_count": 4
        }
      ]
    },
    {
      "cell_type": "code",
      "metadata": {
        "colab": {
          "base_uri": "https://localhost:8080/"
        },
        "id": "e45iR_S8VCpd",
        "outputId": "7f7bad43-9033-4177-d4b5-9e0611d6ba45"
      },
      "source": [
        "kingdoms[4:]"
      ],
      "execution_count": 5,
      "outputs": [
        {
          "output_type": "execute_result",
          "data": {
            "text/plain": [
              "['Fungi', 'Animalia']"
            ]
          },
          "metadata": {},
          "execution_count": 5
        }
      ]
    },
    {
      "cell_type": "code",
      "metadata": {
        "colab": {
          "base_uri": "https://localhost:8080/"
        },
        "id": "i_YqS2P3VEwe",
        "outputId": "0b79ff0f-89e3-4d6e-baee-ea53886d8cf1"
      },
      "source": [
        "kingdoms[1:0]"
      ],
      "execution_count": 6,
      "outputs": [
        {
          "output_type": "execute_result",
          "data": {
            "text/plain": [
              "[]"
            ]
          },
          "metadata": {},
          "execution_count": 6
        }
      ]
    },
    {
      "cell_type": "markdown",
      "metadata": {
        "id": "_cYIUcvAVP6Y"
      },
      "source": [
        "2."
      ]
    },
    {
      "cell_type": "code",
      "metadata": {
        "colab": {
          "base_uri": "https://localhost:8080/",
          "height": 35
        },
        "id": "mUgQC7pqVQ0k",
        "outputId": "c24e76f7-7ebc-408b-f931-ddbbe8f377a7"
      },
      "source": [
        "kingdoms[-6]"
      ],
      "execution_count": 7,
      "outputs": [
        {
          "output_type": "execute_result",
          "data": {
            "application/vnd.google.colaboratory.intrinsic+json": {
              "type": "string"
            },
            "text/plain": [
              "'Bacteria'"
            ]
          },
          "metadata": {},
          "execution_count": 7
        }
      ]
    },
    {
      "cell_type": "code",
      "metadata": {
        "colab": {
          "base_uri": "https://localhost:8080/",
          "height": 35
        },
        "id": "qqpNh0TGVVFc",
        "outputId": "29542075-31ea-434f-c043-7b5c9d19f29a"
      },
      "source": [
        "kingdoms[-1]"
      ],
      "execution_count": 8,
      "outputs": [
        {
          "output_type": "execute_result",
          "data": {
            "application/vnd.google.colaboratory.intrinsic+json": {
              "type": "string"
            },
            "text/plain": [
              "'Animalia'"
            ]
          },
          "metadata": {},
          "execution_count": 8
        }
      ]
    },
    {
      "cell_type": "code",
      "metadata": {
        "colab": {
          "base_uri": "https://localhost:8080/"
        },
        "id": "undDGobZVXFW",
        "outputId": "45c97d47-d809-4e68-9cda-afad09303b30"
      },
      "source": [
        "kingdoms[-6:-3]"
      ],
      "execution_count": 9,
      "outputs": [
        {
          "output_type": "execute_result",
          "data": {
            "text/plain": [
              "['Bacteria', 'Protozoa', 'Chromista']"
            ]
          },
          "metadata": {},
          "execution_count": 9
        }
      ]
    },
    {
      "cell_type": "code",
      "metadata": {
        "colab": {
          "base_uri": "https://localhost:8080/"
        },
        "id": "8dwQV23zVbLS",
        "outputId": "4d468fe1-a2be-4921-e4ce-494b9601f45c"
      },
      "source": [
        "kingdoms[-4:-1]"
      ],
      "execution_count": 10,
      "outputs": [
        {
          "output_type": "execute_result",
          "data": {
            "text/plain": [
              "['Chromista', 'Plantae', 'Fungi']"
            ]
          },
          "metadata": {},
          "execution_count": 10
        }
      ]
    },
    {
      "cell_type": "code",
      "metadata": {
        "colab": {
          "base_uri": "https://localhost:8080/"
        },
        "id": "8VJWimRtVdr5",
        "outputId": "09a57278-3c64-4880-92e7-069e109c37a6"
      },
      "source": [
        "kingdoms[-2:]"
      ],
      "execution_count": 11,
      "outputs": [
        {
          "output_type": "execute_result",
          "data": {
            "text/plain": [
              "['Fungi', 'Animalia']"
            ]
          },
          "metadata": {},
          "execution_count": 11
        }
      ]
    },
    {
      "cell_type": "code",
      "metadata": {
        "colab": {
          "base_uri": "https://localhost:8080/"
        },
        "id": "tfd_vqdQVfXr",
        "outputId": "431dd6b0-6382-4585-e847-c82d6b98d88e"
      },
      "source": [
        "kingdoms[-1:-2]"
      ],
      "execution_count": 12,
      "outputs": [
        {
          "output_type": "execute_result",
          "data": {
            "text/plain": [
              "[]"
            ]
          },
          "metadata": {},
          "execution_count": 12
        }
      ]
    },
    {
      "cell_type": "markdown",
      "metadata": {
        "id": "lbA_01p_Vt7M"
      },
      "source": [
        "3."
      ]
    },
    {
      "cell_type": "code",
      "metadata": {
        "colab": {
          "base_uri": "https://localhost:8080/"
        },
        "id": "UyWHb_eqVvAN",
        "outputId": "6ebb9eb1-b844-4c49-c08f-730dc7bc1611"
      },
      "source": [
        "appointments=['9:00', '10:30', '14:00', '15:00', '15:30']\n",
        "appointments.append('16:30')\n",
        "appointments"
      ],
      "execution_count": 13,
      "outputs": [
        {
          "output_type": "execute_result",
          "data": {
            "text/plain": [
              "['9:00', '10:30', '14:00', '15:00', '15:30', '16:30']"
            ]
          },
          "metadata": {},
          "execution_count": 13
        }
      ]
    },
    {
      "cell_type": "code",
      "metadata": {
        "colab": {
          "base_uri": "https://localhost:8080/"
        },
        "id": "gzPwGhsIWGzE",
        "outputId": "141d167d-e145-412d-b670-656bbfcbd81b"
      },
      "source": [
        "appointment=['9:00', '10:30', '14:00', '15:00', '15:30']\n",
        "appointment += ['16:30']\n",
        "appointment\n"
      ],
      "execution_count": 14,
      "outputs": [
        {
          "output_type": "execute_result",
          "data": {
            "text/plain": [
              "['9:00', '10:30', '14:00', '15:00', '15:30', '16:30']"
            ]
          },
          "metadata": {},
          "execution_count": 14
        }
      ]
    },
    {
      "cell_type": "markdown",
      "metadata": {
        "id": "Y2u5lfo5Xso0"
      },
      "source": [
        "4."
      ]
    },
    {
      "cell_type": "code",
      "metadata": {
        "colab": {
          "base_uri": "https://localhost:8080/"
        },
        "id": "7z1flYUVXt3c",
        "outputId": "a825c1e5-9f97-4333-8996-5528339b7583"
      },
      "source": [
        "ids= [4353, 2314, 2956, 3382, 9362, 3900]\n",
        "ids.remove(3382)\n",
        "ids"
      ],
      "execution_count": 15,
      "outputs": [
        {
          "output_type": "execute_result",
          "data": {
            "text/plain": [
              "[4353, 2314, 2956, 9362, 3900]"
            ]
          },
          "metadata": {},
          "execution_count": 15
        }
      ]
    },
    {
      "cell_type": "code",
      "metadata": {
        "colab": {
          "base_uri": "https://localhost:8080/"
        },
        "id": "_leHZHQ1avhj",
        "outputId": "40689a08-fe96-4bd3-9706-3cecb1704af0"
      },
      "source": [
        "ids.index(9362)"
      ],
      "execution_count": 16,
      "outputs": [
        {
          "output_type": "execute_result",
          "data": {
            "text/plain": [
              "3"
            ]
          },
          "metadata": {},
          "execution_count": 16
        }
      ]
    },
    {
      "cell_type": "code",
      "metadata": {
        "colab": {
          "base_uri": "https://localhost:8080/"
        },
        "id": "GGeecSW0YbwP",
        "outputId": "ba2db507-03ab-4bac-a70a-9c107ee874af"
      },
      "source": [
        "ids.insert(4, 4499)\n",
        "ids"
      ],
      "execution_count": 17,
      "outputs": [
        {
          "output_type": "execute_result",
          "data": {
            "text/plain": [
              "[4353, 2314, 2956, 9362, 4499, 3900]"
            ]
          },
          "metadata": {},
          "execution_count": 17
        }
      ]
    },
    {
      "cell_type": "code",
      "metadata": {
        "colab": {
          "base_uri": "https://localhost:8080/"
        },
        "id": "Gw6MMp5veP3T",
        "outputId": "e8c48489-5fec-4619-b747-4ad512c5dfbe"
      },
      "source": [
        "ids.append([5566, 1830])\n",
        "ids"
      ],
      "execution_count": 18,
      "outputs": [
        {
          "output_type": "execute_result",
          "data": {
            "text/plain": [
              "[4353, 2314, 2956, 9362, 4499, 3900, [5566, 1830]]"
            ]
          },
          "metadata": {},
          "execution_count": 18
        }
      ]
    },
    {
      "cell_type": "code",
      "metadata": {
        "colab": {
          "base_uri": "https://localhost:8080/"
        },
        "id": "c1wabd_QfH4z",
        "outputId": "f2590d65-016a-4812-81d6-48c126ab6ddc"
      },
      "source": [
        "ids.reverse()\n",
        "ids"
      ],
      "execution_count": 19,
      "outputs": [
        {
          "output_type": "execute_result",
          "data": {
            "text/plain": [
              "[[5566, 1830], 3900, 4499, 9362, 2956, 2314, 4353]"
            ]
          },
          "metadata": {},
          "execution_count": 19
        }
      ]
    },
    {
      "cell_type": "code",
      "metadata": {
        "id": "3efW_r0Aj7Ee"
      },
      "source": [
        "\n"
      ],
      "execution_count": 19,
      "outputs": []
    },
    {
      "cell_type": "markdown",
      "metadata": {
        "id": "zOdsOkpwofy3"
      },
      "source": [
        "5."
      ]
    },
    {
      "cell_type": "code",
      "metadata": {
        "colab": {
          "base_uri": "https://localhost:8080/"
        },
        "id": "GOgSQDdaogoJ",
        "outputId": "d14aeaaa-8da7-44e3-fad0-d599981b85c9"
      },
      "source": [
        "alkaline_earth_metals=['metals—beryllium (4)', 'magnesium (12)', 'calcium (20)', 'strontium (38)', 'barium (56)', 'radium (88)']\n",
        "alkaline_earth_metals"
      ],
      "execution_count": 20,
      "outputs": [
        {
          "output_type": "execute_result",
          "data": {
            "text/plain": [
              "['metals—beryllium (4)',\n",
              " 'magnesium (12)',\n",
              " 'calcium (20)',\n",
              " 'strontium (38)',\n",
              " 'barium (56)',\n",
              " 'radium (88)']"
            ]
          },
          "metadata": {},
          "execution_count": 20
        }
      ]
    },
    {
      "cell_type": "code",
      "metadata": {
        "id": "MHGtAiCjv_QC"
      },
      "source": [
        ""
      ],
      "execution_count": 20,
      "outputs": []
    },
    {
      "cell_type": "code",
      "metadata": {
        "colab": {
          "base_uri": "https://localhost:8080/",
          "height": 35
        },
        "id": "Nv-19QoJpzFo",
        "outputId": "b74ef2d1-6dd2-47b2-c3fb-fc15cb645dc0"
      },
      "source": [
        "alkaline_earth_metals[5]"
      ],
      "execution_count": 21,
      "outputs": [
        {
          "output_type": "execute_result",
          "data": {
            "application/vnd.google.colaboratory.intrinsic+json": {
              "type": "string"
            },
            "text/plain": [
              "'radium (88)'"
            ]
          },
          "metadata": {},
          "execution_count": 21
        }
      ]
    },
    {
      "cell_type": "code",
      "metadata": {
        "colab": {
          "base_uri": "https://localhost:8080/",
          "height": 35
        },
        "id": "GGJZtBFdrdmK",
        "outputId": "a08a28cf-ce61-413c-af63-f4e713bf3b5e"
      },
      "source": [
        "alkaline_earth_metals[-1]"
      ],
      "execution_count": 22,
      "outputs": [
        {
          "output_type": "execute_result",
          "data": {
            "application/vnd.google.colaboratory.intrinsic+json": {
              "type": "string"
            },
            "text/plain": [
              "'radium (88)'"
            ]
          },
          "metadata": {},
          "execution_count": 22
        }
      ]
    },
    {
      "cell_type": "code",
      "metadata": {
        "colab": {
          "base_uri": "https://localhost:8080/"
        },
        "id": "NLFXfU7Xrpfn",
        "outputId": "850639e8-5fd0-4bd5-c05d-041469ef8870"
      },
      "source": [
        "count=0\n",
        "for i in alkaline_earth_metals:\n",
        "  count+=1\n",
        "count"
      ],
      "execution_count": 23,
      "outputs": [
        {
          "output_type": "execute_result",
          "data": {
            "text/plain": [
              "6"
            ]
          },
          "metadata": {},
          "execution_count": 23
        }
      ]
    },
    {
      "cell_type": "code",
      "metadata": {
        "id": "n5APxD8svvRq"
      },
      "source": [
        ""
      ],
      "execution_count": 23,
      "outputs": []
    },
    {
      "cell_type": "markdown",
      "metadata": {
        "id": "y59tC8FGvxN3"
      },
      "source": [
        "6."
      ]
    },
    {
      "cell_type": "code",
      "metadata": {
        "id": "jn7V_JDmvyV3"
      },
      "source": [
        "temps=[25.2, 16.8, 31.4, 23.9, 28, 22.5, 19.6]"
      ],
      "execution_count": 24,
      "outputs": []
    },
    {
      "cell_type": "code",
      "metadata": {
        "colab": {
          "base_uri": "https://localhost:8080/"
        },
        "id": "rPAfwQefxL5c",
        "outputId": "f9927765-507a-478b-d000-f2bf9dbb5c38"
      },
      "source": [
        "temps.sort()\n",
        "temps"
      ],
      "execution_count": 25,
      "outputs": [
        {
          "output_type": "execute_result",
          "data": {
            "text/plain": [
              "[16.8, 19.6, 22.5, 23.9, 25.2, 28, 31.4]"
            ]
          },
          "metadata": {},
          "execution_count": 25
        }
      ]
    },
    {
      "cell_type": "code",
      "metadata": {
        "colab": {
          "base_uri": "https://localhost:8080/"
        },
        "id": "OoAz2G0zyUeW",
        "outputId": "e2e23e71-85c4-4b58-a5ec-bf73d71fe2aa"
      },
      "source": [
        "warm_temps=[]\n",
        "cool_temps=[]\n",
        "temps1=slice(2)\n",
        "warm_temps=temps[temps1]\n",
        "print(warm_temps)\n",
        "temps2=slice(2,-1)\n",
        "cool_temps=temps[temps2]\n",
        "print(cool_temps)\n"
      ],
      "execution_count": 26,
      "outputs": [
        {
          "output_type": "stream",
          "name": "stdout",
          "text": [
            "[16.8, 19.6]\n",
            "[22.5, 23.9, 25.2, 28]\n"
          ]
        }
      ]
    },
    {
      "cell_type": "code",
      "metadata": {
        "colab": {
          "base_uri": "https://localhost:8080/"
        },
        "id": "Rl1Mowwq6vGl",
        "outputId": "670b5983-0b96-4693-d401-58dcd03d55e9"
      },
      "source": [
        "temps_in_celsius=warm_temps+cool_temps\n",
        "temps_in_celsius"
      ],
      "execution_count": 27,
      "outputs": [
        {
          "output_type": "execute_result",
          "data": {
            "text/plain": [
              "[16.8, 19.6, 22.5, 23.9, 25.2, 28]"
            ]
          },
          "metadata": {},
          "execution_count": 27
        }
      ]
    },
    {
      "cell_type": "markdown",
      "metadata": {
        "id": "ZncvNoqI9mu2"
      },
      "source": [
        "7."
      ]
    },
    {
      "cell_type": "code",
      "metadata": {
        "colab": {
          "base_uri": "https://localhost:8080/"
        },
        "id": "fagVo3TJ9r3c",
        "outputId": "c5a1ef0e-d2ef-47cf-b717-ec4dfd3a22e5"
      },
      "source": [
        "def same_first_last(L):\n",
        "  if L[0]==L[-1]:\n",
        "    return True\n",
        "  else:\n",
        "    return False\n",
        "print(same_first_last([3, 4, 2, 8, 3]))\n",
        "print(same_first_last(['apple', 'banana', 'pear']))"
      ],
      "execution_count": 28,
      "outputs": [
        {
          "output_type": "stream",
          "name": "stdout",
          "text": [
            "True\n",
            "False\n"
          ]
        }
      ]
    },
    {
      "cell_type": "markdown",
      "metadata": {
        "id": "_AcTX4UL_TuU"
      },
      "source": [
        "8."
      ]
    },
    {
      "cell_type": "code",
      "metadata": {
        "colab": {
          "base_uri": "https://localhost:8080/"
        },
        "id": "9CAO958Y_UtV",
        "outputId": "2dd45d79-0fb7-425c-e77e-e5098bc87a34"
      },
      "source": [
        "def is_longer(L1, L2):\n",
        "  if len(L1)>len(L2):\n",
        "    return True\n",
        "  else:\n",
        "    return False\n",
        "print(is_longer([1, 2, 3], [4, 5]))\n",
        "print(is_longer(['abcdef'], ['ab', 'cd', 'ef']))"
      ],
      "execution_count": 29,
      "outputs": [
        {
          "output_type": "stream",
          "name": "stdout",
          "text": [
            "True\n",
            "False\n"
          ]
        }
      ]
    }
  ]
}