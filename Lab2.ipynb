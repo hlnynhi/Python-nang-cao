{
  "nbformat": 4,
  "nbformat_minor": 0,
  "metadata": {
    "colab": {
      "name": "Lab2.ipynb",
      "provenance": [],
      "authorship_tag": "ABX9TyNBnphtxcT2UkhtQt6tulSC",
      "include_colab_link": true
    },
    "kernelspec": {
      "name": "python3",
      "display_name": "Python 3"
    },
    "language_info": {
      "name": "python"
    }
  },
  "cells": [
    {
      "cell_type": "markdown",
      "metadata": {
        "id": "view-in-github",
        "colab_type": "text"
      },
      "source": [
        "<a href=\"https://colab.research.google.com/github/hlnynhi/Python-nang-cao/blob/main/Lab2.ipynb\" target=\"_parent\"><img src=\"https://colab.research.google.com/assets/colab-badge.svg\" alt=\"Open In Colab\"/></a>"
      ]
    },
    {
      "cell_type": "markdown",
      "metadata": {
        "id": "8sRjs5MMUGwk"
      },
      "source": [
        "Bài tập chương 8\n"
      ]
    },
    {
      "cell_type": "markdown",
      "metadata": {
        "id": "t56BOhXAVMa0"
      },
      "source": [
        "1."
      ]
    },
    {
      "cell_type": "code",
      "metadata": {
        "colab": {
          "base_uri": "https://localhost:8080/",
          "height": 35
        },
        "id": "6X5ROsyVUKAL",
        "outputId": "50c77478-0b86-4940-80eb-12ae5e9f7dc3"
      },
      "source": [
        "kingdoms = ['Bacteria', 'Protozoa', 'Chromista', 'Plantae', 'Fungi', 'Animalia']\n",
        "kingdoms[0]"
      ],
      "execution_count": 1,
      "outputs": [
        {
          "output_type": "execute_result",
          "data": {
            "application/vnd.google.colaboratory.intrinsic+json": {
              "type": "string"
            },
            "text/plain": [
              "'Bacteria'"
            ]
          },
          "metadata": {},
          "execution_count": 1
        }
      ]
    },
    {
      "cell_type": "code",
      "metadata": {
        "colab": {
          "base_uri": "https://localhost:8080/",
          "height": 35
        },
        "id": "-J77kYs-U6dA",
        "outputId": "b9175fc6-8289-49cb-c08d-bb5d875a5bfc"
      },
      "source": [
        "kingdoms[5]"
      ],
      "execution_count": 2,
      "outputs": [
        {
          "output_type": "execute_result",
          "data": {
            "application/vnd.google.colaboratory.intrinsic+json": {
              "type": "string"
            },
            "text/plain": [
              "'Animalia'"
            ]
          },
          "metadata": {},
          "execution_count": 2
        }
      ]
    },
    {
      "cell_type": "code",
      "metadata": {
        "colab": {
          "base_uri": "https://localhost:8080/"
        },
        "id": "Ix0Sok_zU-sc",
        "outputId": "ba49306a-30b2-4af6-a7d0-6cd6072ddeb2"
      },
      "source": [
        "kingdoms[:3]"
      ],
      "execution_count": 3,
      "outputs": [
        {
          "output_type": "execute_result",
          "data": {
            "text/plain": [
              "['Bacteria', 'Protozoa', 'Chromista']"
            ]
          },
          "metadata": {},
          "execution_count": 3
        }
      ]
    },
    {
      "cell_type": "code",
      "metadata": {
        "colab": {
          "base_uri": "https://localhost:8080/"
        },
        "id": "gycQVRXWVAoU",
        "outputId": "d720ded0-7d0d-4cae-dd8f-e7a03f3d0099"
      },
      "source": [
        "kingdoms[2:5]"
      ],
      "execution_count": 4,
      "outputs": [
        {
          "output_type": "execute_result",
          "data": {
            "text/plain": [
              "['Chromista', 'Plantae', 'Fungi']"
            ]
          },
          "metadata": {},
          "execution_count": 4
        }
      ]
    },
    {
      "cell_type": "code",
      "metadata": {
        "colab": {
          "base_uri": "https://localhost:8080/"
        },
        "id": "e45iR_S8VCpd",
        "outputId": "7d6367d1-6150-4899-95d6-3886efadca94"
      },
      "source": [
        "kingdoms[4:]"
      ],
      "execution_count": 5,
      "outputs": [
        {
          "output_type": "execute_result",
          "data": {
            "text/plain": [
              "['Fungi', 'Animalia']"
            ]
          },
          "metadata": {},
          "execution_count": 5
        }
      ]
    },
    {
      "cell_type": "code",
      "metadata": {
        "colab": {
          "base_uri": "https://localhost:8080/"
        },
        "id": "i_YqS2P3VEwe",
        "outputId": "16fdee87-e9a6-4f31-8121-e4bcf804032e"
      },
      "source": [
        "kingdoms[1:0]"
      ],
      "execution_count": 6,
      "outputs": [
        {
          "output_type": "execute_result",
          "data": {
            "text/plain": [
              "[]"
            ]
          },
          "metadata": {},
          "execution_count": 6
        }
      ]
    },
    {
      "cell_type": "markdown",
      "metadata": {
        "id": "_cYIUcvAVP6Y"
      },
      "source": [
        "2."
      ]
    },
    {
      "cell_type": "code",
      "metadata": {
        "colab": {
          "base_uri": "https://localhost:8080/",
          "height": 35
        },
        "id": "mUgQC7pqVQ0k",
        "outputId": "1a9dcaf5-f008-4034-8bb3-9e7d3828aa5c"
      },
      "source": [
        "kingdoms[-6]"
      ],
      "execution_count": 7,
      "outputs": [
        {
          "output_type": "execute_result",
          "data": {
            "application/vnd.google.colaboratory.intrinsic+json": {
              "type": "string"
            },
            "text/plain": [
              "'Bacteria'"
            ]
          },
          "metadata": {},
          "execution_count": 7
        }
      ]
    },
    {
      "cell_type": "code",
      "metadata": {
        "colab": {
          "base_uri": "https://localhost:8080/",
          "height": 35
        },
        "id": "qqpNh0TGVVFc",
        "outputId": "e7b90b53-fbcd-4530-da74-734301260722"
      },
      "source": [
        "kingdoms[-1]"
      ],
      "execution_count": 8,
      "outputs": [
        {
          "output_type": "execute_result",
          "data": {
            "application/vnd.google.colaboratory.intrinsic+json": {
              "type": "string"
            },
            "text/plain": [
              "'Animalia'"
            ]
          },
          "metadata": {},
          "execution_count": 8
        }
      ]
    },
    {
      "cell_type": "code",
      "metadata": {
        "colab": {
          "base_uri": "https://localhost:8080/"
        },
        "id": "undDGobZVXFW",
        "outputId": "6e17c921-0ee1-446a-fee8-c892ae09d9f5"
      },
      "source": [
        "kingdoms[-6:-3]"
      ],
      "execution_count": 9,
      "outputs": [
        {
          "output_type": "execute_result",
          "data": {
            "text/plain": [
              "['Bacteria', 'Protozoa', 'Chromista']"
            ]
          },
          "metadata": {},
          "execution_count": 9
        }
      ]
    },
    {
      "cell_type": "code",
      "metadata": {
        "colab": {
          "base_uri": "https://localhost:8080/"
        },
        "id": "8dwQV23zVbLS",
        "outputId": "57970084-84df-412d-e901-c8131d063623"
      },
      "source": [
        "kingdoms[-4:-1]"
      ],
      "execution_count": 10,
      "outputs": [
        {
          "output_type": "execute_result",
          "data": {
            "text/plain": [
              "['Chromista', 'Plantae', 'Fungi']"
            ]
          },
          "metadata": {},
          "execution_count": 10
        }
      ]
    },
    {
      "cell_type": "code",
      "metadata": {
        "colab": {
          "base_uri": "https://localhost:8080/"
        },
        "id": "8VJWimRtVdr5",
        "outputId": "ebd20e99-70dc-4fcf-8244-b3ddd1bdd34b"
      },
      "source": [
        "kingdoms[-2:]"
      ],
      "execution_count": 11,
      "outputs": [
        {
          "output_type": "execute_result",
          "data": {
            "text/plain": [
              "['Fungi', 'Animalia']"
            ]
          },
          "metadata": {},
          "execution_count": 11
        }
      ]
    },
    {
      "cell_type": "code",
      "metadata": {
        "colab": {
          "base_uri": "https://localhost:8080/"
        },
        "id": "tfd_vqdQVfXr",
        "outputId": "596b631c-a0fb-4a8e-91e6-ec5c9ef86af5"
      },
      "source": [
        "kingdoms[-1:-2]"
      ],
      "execution_count": 12,
      "outputs": [
        {
          "output_type": "execute_result",
          "data": {
            "text/plain": [
              "[]"
            ]
          },
          "metadata": {},
          "execution_count": 12
        }
      ]
    },
    {
      "cell_type": "markdown",
      "metadata": {
        "id": "lbA_01p_Vt7M"
      },
      "source": [
        "3."
      ]
    },
    {
      "cell_type": "code",
      "metadata": {
        "colab": {
          "base_uri": "https://localhost:8080/"
        },
        "id": "UyWHb_eqVvAN",
        "outputId": "fda73e0d-a719-4783-9537-0cb3fb836327"
      },
      "source": [
        "appointments=['9:00', '10:30', '14:00', '15:00', '15:30']\n",
        "appointments.append('16:30')\n",
        "appointments"
      ],
      "execution_count": 13,
      "outputs": [
        {
          "output_type": "execute_result",
          "data": {
            "text/plain": [
              "['9:00', '10:30', '14:00', '15:00', '15:30', '16:30']"
            ]
          },
          "metadata": {},
          "execution_count": 13
        }
      ]
    },
    {
      "cell_type": "code",
      "metadata": {
        "colab": {
          "base_uri": "https://localhost:8080/"
        },
        "id": "gzPwGhsIWGzE",
        "outputId": "12029a4e-87bb-4f57-a4bf-b7db444d9652"
      },
      "source": [
        "appointment=['9:00', '10:30', '14:00', '15:00', '15:30']\n",
        "appointment += ['16:30']\n",
        "appointment\n"
      ],
      "execution_count": 14,
      "outputs": [
        {
          "output_type": "execute_result",
          "data": {
            "text/plain": [
              "['9:00', '10:30', '14:00', '15:00', '15:30', '16:30']"
            ]
          },
          "metadata": {},
          "execution_count": 14
        }
      ]
    },
    {
      "cell_type": "markdown",
      "metadata": {
        "id": "Y2u5lfo5Xso0"
      },
      "source": [
        "4."
      ]
    },
    {
      "cell_type": "code",
      "metadata": {
        "colab": {
          "base_uri": "https://localhost:8080/"
        },
        "id": "7z1flYUVXt3c",
        "outputId": "d14240ca-212b-47b0-e65f-145be65355d3"
      },
      "source": [
        "ids= [4353, 2314, 2956, 3382, 9362, 3900]\n",
        "ids.remove(3382)\n",
        "ids"
      ],
      "execution_count": 15,
      "outputs": [
        {
          "output_type": "execute_result",
          "data": {
            "text/plain": [
              "[4353, 2314, 2956, 9362, 3900]"
            ]
          },
          "metadata": {},
          "execution_count": 15
        }
      ]
    },
    {
      "cell_type": "code",
      "metadata": {
        "colab": {
          "base_uri": "https://localhost:8080/"
        },
        "id": "_leHZHQ1avhj",
        "outputId": "a48c1e8b-c40b-4f23-ed3f-4ae5324ff5ff"
      },
      "source": [
        "ids.index(9362)"
      ],
      "execution_count": 16,
      "outputs": [
        {
          "output_type": "execute_result",
          "data": {
            "text/plain": [
              "3"
            ]
          },
          "metadata": {},
          "execution_count": 16
        }
      ]
    },
    {
      "cell_type": "code",
      "metadata": {
        "colab": {
          "base_uri": "https://localhost:8080/"
        },
        "id": "GGeecSW0YbwP",
        "outputId": "e755ba77-bc5a-4b91-ff42-b307f4e50a40"
      },
      "source": [
        "ids.insert(4, 4499)\n",
        "ids"
      ],
      "execution_count": 17,
      "outputs": [
        {
          "output_type": "execute_result",
          "data": {
            "text/plain": [
              "[4353, 2314, 2956, 9362, 4499, 3900]"
            ]
          },
          "metadata": {},
          "execution_count": 17
        }
      ]
    },
    {
      "cell_type": "code",
      "metadata": {
        "colab": {
          "base_uri": "https://localhost:8080/"
        },
        "id": "Gw6MMp5veP3T",
        "outputId": "34cd4b09-5310-49d7-be58-d03842a6c8ee"
      },
      "source": [
        "ids.append([5566, 1830])\n",
        "ids"
      ],
      "execution_count": 18,
      "outputs": [
        {
          "output_type": "execute_result",
          "data": {
            "text/plain": [
              "[4353, 2314, 2956, 9362, 4499, 3900, [5566, 1830]]"
            ]
          },
          "metadata": {},
          "execution_count": 18
        }
      ]
    },
    {
      "cell_type": "code",
      "metadata": {
        "colab": {
          "base_uri": "https://localhost:8080/"
        },
        "id": "c1wabd_QfH4z",
        "outputId": "50b75485-256c-44e4-9425-8e900b958c68"
      },
      "source": [
        "ids.reverse()\n",
        "ids"
      ],
      "execution_count": 19,
      "outputs": [
        {
          "output_type": "execute_result",
          "data": {
            "text/plain": [
              "[[5566, 1830], 3900, 4499, 9362, 2956, 2314, 4353]"
            ]
          },
          "metadata": {},
          "execution_count": 19
        }
      ]
    },
    {
      "cell_type": "code",
      "metadata": {
        "id": "3efW_r0Aj7Ee"
      },
      "source": [
        "\n"
      ],
      "execution_count": 19,
      "outputs": []
    },
    {
      "cell_type": "markdown",
      "metadata": {
        "id": "zOdsOkpwofy3"
      },
      "source": [
        "5."
      ]
    },
    {
      "cell_type": "code",
      "metadata": {
        "colab": {
          "base_uri": "https://localhost:8080/"
        },
        "id": "GOgSQDdaogoJ",
        "outputId": "4004b724-8faa-4aae-cf8a-3e35062a8f34"
      },
      "source": [
        "alkaline_earth_metals=['metals—beryllium (4)', 'magnesium (12)', 'calcium (20)', 'strontium (38)', 'barium (56)', 'radium (88)']\n",
        "alkaline_earth_metals"
      ],
      "execution_count": 20,
      "outputs": [
        {
          "output_type": "execute_result",
          "data": {
            "text/plain": [
              "['metals—beryllium (4)',\n",
              " 'magnesium (12)',\n",
              " 'calcium (20)',\n",
              " 'strontium (38)',\n",
              " 'barium (56)',\n",
              " 'radium (88)']"
            ]
          },
          "metadata": {},
          "execution_count": 20
        }
      ]
    },
    {
      "cell_type": "code",
      "metadata": {
        "id": "MHGtAiCjv_QC"
      },
      "source": [
        ""
      ],
      "execution_count": 20,
      "outputs": []
    },
    {
      "cell_type": "code",
      "metadata": {
        "colab": {
          "base_uri": "https://localhost:8080/",
          "height": 35
        },
        "id": "Nv-19QoJpzFo",
        "outputId": "bcb23a9b-89a9-4713-84ed-56ebbd2ac62b"
      },
      "source": [
        "alkaline_earth_metals[5]"
      ],
      "execution_count": 21,
      "outputs": [
        {
          "output_type": "execute_result",
          "data": {
            "application/vnd.google.colaboratory.intrinsic+json": {
              "type": "string"
            },
            "text/plain": [
              "'radium (88)'"
            ]
          },
          "metadata": {},
          "execution_count": 21
        }
      ]
    },
    {
      "cell_type": "code",
      "metadata": {
        "colab": {
          "base_uri": "https://localhost:8080/",
          "height": 35
        },
        "id": "GGJZtBFdrdmK",
        "outputId": "47f6155d-7d1c-449d-d77c-afafe2cbc7a9"
      },
      "source": [
        "alkaline_earth_metals[-1]"
      ],
      "execution_count": 22,
      "outputs": [
        {
          "output_type": "execute_result",
          "data": {
            "application/vnd.google.colaboratory.intrinsic+json": {
              "type": "string"
            },
            "text/plain": [
              "'radium (88)'"
            ]
          },
          "metadata": {},
          "execution_count": 22
        }
      ]
    },
    {
      "cell_type": "code",
      "metadata": {
        "colab": {
          "base_uri": "https://localhost:8080/"
        },
        "id": "NLFXfU7Xrpfn",
        "outputId": "41b126c0-b4f8-4ffc-db11-b82c153492d7"
      },
      "source": [
        "count=0\n",
        "for i in alkaline_earth_metals:\n",
        "  count+=1\n",
        "count"
      ],
      "execution_count": 23,
      "outputs": [
        {
          "output_type": "execute_result",
          "data": {
            "text/plain": [
              "6"
            ]
          },
          "metadata": {},
          "execution_count": 23
        }
      ]
    },
    {
      "cell_type": "code",
      "metadata": {
        "id": "n5APxD8svvRq"
      },
      "source": [
        ""
      ],
      "execution_count": 23,
      "outputs": []
    },
    {
      "cell_type": "markdown",
      "metadata": {
        "id": "y59tC8FGvxN3"
      },
      "source": [
        "6."
      ]
    },
    {
      "cell_type": "code",
      "metadata": {
        "id": "jn7V_JDmvyV3"
      },
      "source": [
        "temps=[25.2, 16.8, 31.4, 23.9, 28, 22.5, 19.6]"
      ],
      "execution_count": 24,
      "outputs": []
    },
    {
      "cell_type": "code",
      "metadata": {
        "colab": {
          "base_uri": "https://localhost:8080/"
        },
        "id": "rPAfwQefxL5c",
        "outputId": "d8c0e6d4-94b2-49ee-a422-416e14fcacca"
      },
      "source": [
        "temps.sort()\n",
        "temps"
      ],
      "execution_count": 25,
      "outputs": [
        {
          "output_type": "execute_result",
          "data": {
            "text/plain": [
              "[16.8, 19.6, 22.5, 23.9, 25.2, 28, 31.4]"
            ]
          },
          "metadata": {},
          "execution_count": 25
        }
      ]
    },
    {
      "cell_type": "code",
      "metadata": {
        "colab": {
          "base_uri": "https://localhost:8080/"
        },
        "id": "OoAz2G0zyUeW",
        "outputId": "6cd360b6-abe7-49d9-bd6b-80f01d77d2de"
      },
      "source": [
        "warm_temps=[]\n",
        "cool_temps=[]\n",
        "temps1=slice(2)\n",
        "warm_temps=temps[temps1]\n",
        "print(warm_temps)\n",
        "temps2=slice(2,-1)\n",
        "cool_temps=temps[temps2]\n",
        "print(cool_temps)\n"
      ],
      "execution_count": 26,
      "outputs": [
        {
          "output_type": "stream",
          "name": "stdout",
          "text": [
            "[16.8, 19.6]\n",
            "[22.5, 23.9, 25.2, 28]\n"
          ]
        }
      ]
    },
    {
      "cell_type": "code",
      "metadata": {
        "colab": {
          "base_uri": "https://localhost:8080/"
        },
        "id": "Rl1Mowwq6vGl",
        "outputId": "f8e5ad9b-0e14-4301-f47b-14060add363a"
      },
      "source": [
        "temps_in_celsius=warm_temps+cool_temps\n",
        "temps_in_celsius"
      ],
      "execution_count": 27,
      "outputs": [
        {
          "output_type": "execute_result",
          "data": {
            "text/plain": [
              "[16.8, 19.6, 22.5, 23.9, 25.2, 28]"
            ]
          },
          "metadata": {},
          "execution_count": 27
        }
      ]
    },
    {
      "cell_type": "markdown",
      "metadata": {
        "id": "ZncvNoqI9mu2"
      },
      "source": [
        "7."
      ]
    },
    {
      "cell_type": "code",
      "metadata": {
        "colab": {
          "base_uri": "https://localhost:8080/"
        },
        "id": "fagVo3TJ9r3c",
        "outputId": "2e76558c-43de-4303-d40d-ef71148a4164"
      },
      "source": [
        "def same_first_last(L):\n",
        "  if L[0]==L[-1]:\n",
        "    return True\n",
        "  else:\n",
        "    return False\n",
        "print(same_first_last([3, 4, 2, 8, 3]))\n",
        "print(same_first_last(['apple', 'banana', 'pear']))"
      ],
      "execution_count": 28,
      "outputs": [
        {
          "output_type": "stream",
          "name": "stdout",
          "text": [
            "True\n",
            "False\n"
          ]
        }
      ]
    },
    {
      "cell_type": "markdown",
      "metadata": {
        "id": "_AcTX4UL_TuU"
      },
      "source": [
        "8."
      ]
    },
    {
      "cell_type": "code",
      "metadata": {
        "colab": {
          "base_uri": "https://localhost:8080/"
        },
        "id": "9CAO958Y_UtV",
        "outputId": "6f967c14-43e1-44ba-b26b-5d814c8e7a6c"
      },
      "source": [
        "def is_longer(L1, L2):\n",
        "  if len(L1)>len(L2):\n",
        "    return True\n",
        "  else:\n",
        "    return False\n",
        "print(is_longer([1, 2, 3], [4, 5]))\n",
        "print(is_longer(['abcdef'], ['ab', 'cd', 'ef']))"
      ],
      "execution_count": 29,
      "outputs": [
        {
          "output_type": "stream",
          "name": "stdout",
          "text": [
            "True\n",
            "False\n"
          ]
        }
      ]
    },
    {
      "cell_type": "markdown",
      "metadata": {
        "id": "KxuGyyPQYF8P"
      },
      "source": [
        "9."
      ]
    },
    {
      "cell_type": "code",
      "metadata": {
        "id": "IcmRHnd-YG3C",
        "outputId": "b7747b4a-2604-40ae-cd4f-faa73c4e1384",
        "colab": {
          "base_uri": "https://localhost:8080/"
        }
      },
      "source": [
        "values = [0, 1, 2]\n",
        "values[1] = values\n",
        "values"
      ],
      "execution_count": 30,
      "outputs": [
        {
          "output_type": "execute_result",
          "data": {
            "text/plain": [
              "[0, [...], 2]"
            ]
          },
          "metadata": {},
          "execution_count": 30
        }
      ]
    },
    {
      "cell_type": "markdown",
      "metadata": {
        "id": "mxsXcdrXYL9Y"
      },
      "source": [
        "10."
      ]
    },
    {
      "cell_type": "code",
      "metadata": {
        "id": "NoyHGv1YZacb"
      },
      "source": [
        "units=[['km', 'miles', 'league'], ['kg', 'pound', 'stone']]"
      ],
      "execution_count": 31,
      "outputs": []
    },
    {
      "cell_type": "code",
      "metadata": {
        "id": "OFH1KnIdZmD3",
        "outputId": "9609e61d-2c81-471d-9c6e-b181cab16c03",
        "colab": {
          "base_uri": "https://localhost:8080/"
        }
      },
      "source": [
        "units[0]"
      ],
      "execution_count": 32,
      "outputs": [
        {
          "output_type": "execute_result",
          "data": {
            "text/plain": [
              "['km', 'miles', 'league']"
            ]
          },
          "metadata": {},
          "execution_count": 32
        }
      ]
    },
    {
      "cell_type": "code",
      "metadata": {
        "id": "PdgzUIjqZm83",
        "outputId": "f903f26d-7a12-41c2-ee77-9365b81fe9ff",
        "colab": {
          "base_uri": "https://localhost:8080/"
        }
      },
      "source": [
        "units[-1]"
      ],
      "execution_count": 33,
      "outputs": [
        {
          "output_type": "execute_result",
          "data": {
            "text/plain": [
              "['kg', 'pound', 'stone']"
            ]
          },
          "metadata": {},
          "execution_count": 33
        }
      ]
    },
    {
      "cell_type": "code",
      "metadata": {
        "id": "jaYyfNAIZyYo",
        "outputId": "1c172f85-7be2-4395-e076-9ea113c7611c",
        "colab": {
          "base_uri": "https://localhost:8080/",
          "height": 35
        }
      },
      "source": [
        "units[0][0]"
      ],
      "execution_count": 34,
      "outputs": [
        {
          "output_type": "execute_result",
          "data": {
            "application/vnd.google.colaboratory.intrinsic+json": {
              "type": "string"
            },
            "text/plain": [
              "'km'"
            ]
          },
          "metadata": {},
          "execution_count": 34
        }
      ]
    },
    {
      "cell_type": "code",
      "metadata": {
        "id": "I4eg6NoaZ3UY",
        "outputId": "337f26eb-8dc5-4605-e246-435e6b29e188",
        "colab": {
          "base_uri": "https://localhost:8080/",
          "height": 35
        }
      },
      "source": [
        "units[1][0]"
      ],
      "execution_count": 35,
      "outputs": [
        {
          "output_type": "execute_result",
          "data": {
            "application/vnd.google.colaboratory.intrinsic+json": {
              "type": "string"
            },
            "text/plain": [
              "'kg'"
            ]
          },
          "metadata": {},
          "execution_count": 35
        }
      ]
    },
    {
      "cell_type": "code",
      "metadata": {
        "id": "t3-74NxMZ7SH",
        "outputId": "de11ebb8-a6f7-48a0-afbb-7a4ecd3d7994",
        "colab": {
          "base_uri": "https://localhost:8080/"
        }
      },
      "source": [
        "units[0][1:]"
      ],
      "execution_count": 36,
      "outputs": [
        {
          "output_type": "execute_result",
          "data": {
            "text/plain": [
              "['miles', 'league']"
            ]
          },
          "metadata": {},
          "execution_count": 36
        }
      ]
    },
    {
      "cell_type": "code",
      "metadata": {
        "id": "pGmbka-JZ_ee",
        "outputId": "972ab017-7f50-4fcf-a986-3134271d295a",
        "colab": {
          "base_uri": "https://localhost:8080/"
        }
      },
      "source": [
        "units[1][0:2]"
      ],
      "execution_count": 37,
      "outputs": [
        {
          "output_type": "execute_result",
          "data": {
            "text/plain": [
              "['kg', 'pound']"
            ]
          },
          "metadata": {},
          "execution_count": 37
        }
      ]
    },
    {
      "cell_type": "markdown",
      "metadata": {
        "id": "cRiUAEuJaGLJ"
      },
      "source": [
        "11."
      ]
    },
    {
      "cell_type": "code",
      "metadata": {
        "id": "YnNs13uLaG42",
        "outputId": "b64b0f53-4eb5-4b3d-b0c6-62d754856c01",
        "colab": {
          "base_uri": "https://localhost:8080/"
        }
      },
      "source": [
        "units[-2]"
      ],
      "execution_count": 38,
      "outputs": [
        {
          "output_type": "execute_result",
          "data": {
            "text/plain": [
              "['km', 'miles', 'league']"
            ]
          },
          "metadata": {},
          "execution_count": 38
        }
      ]
    },
    {
      "cell_type": "code",
      "metadata": {
        "id": "4SCwvaDOaKD4",
        "outputId": "2810f85e-1289-4443-c5b9-59e0a4aef104",
        "colab": {
          "base_uri": "https://localhost:8080/"
        }
      },
      "source": [
        "units[-1]"
      ],
      "execution_count": 39,
      "outputs": [
        {
          "output_type": "execute_result",
          "data": {
            "text/plain": [
              "['kg', 'pound', 'stone']"
            ]
          },
          "metadata": {},
          "execution_count": 39
        }
      ]
    },
    {
      "cell_type": "code",
      "metadata": {
        "id": "3r8KxahXaLm7",
        "outputId": "a13d605a-7f5d-4571-e3c4-033b3078d66c",
        "colab": {
          "base_uri": "https://localhost:8080/",
          "height": 35
        }
      },
      "source": [
        "units[-2][-3]"
      ],
      "execution_count": 40,
      "outputs": [
        {
          "output_type": "execute_result",
          "data": {
            "application/vnd.google.colaboratory.intrinsic+json": {
              "type": "string"
            },
            "text/plain": [
              "'km'"
            ]
          },
          "metadata": {},
          "execution_count": 40
        }
      ]
    },
    {
      "cell_type": "code",
      "metadata": {
        "id": "OwB_4MiTaNEh",
        "outputId": "ed2bb670-fe5b-4f45-e7a5-1952849887ea",
        "colab": {
          "base_uri": "https://localhost:8080/",
          "height": 35
        }
      },
      "source": [
        "units[-1][-3]"
      ],
      "execution_count": 41,
      "outputs": [
        {
          "output_type": "execute_result",
          "data": {
            "application/vnd.google.colaboratory.intrinsic+json": {
              "type": "string"
            },
            "text/plain": [
              "'kg'"
            ]
          },
          "metadata": {},
          "execution_count": 41
        }
      ]
    },
    {
      "cell_type": "code",
      "metadata": {
        "id": "I3wyjxLTaOOO",
        "outputId": "5242b011-9110-4e1d-a744-9a00009e1c71",
        "colab": {
          "base_uri": "https://localhost:8080/"
        }
      },
      "source": [
        "units[-2][-2:]"
      ],
      "execution_count": 42,
      "outputs": [
        {
          "output_type": "execute_result",
          "data": {
            "text/plain": [
              "['miles', 'league']"
            ]
          },
          "metadata": {},
          "execution_count": 42
        }
      ]
    },
    {
      "cell_type": "code",
      "metadata": {
        "id": "1QQlDePjaQ8C",
        "outputId": "cb524e24-91f4-4a8f-c4ac-c6219f62a67d",
        "colab": {
          "base_uri": "https://localhost:8080/"
        }
      },
      "source": [
        "units[-1][:-1]"
      ],
      "execution_count": 43,
      "outputs": [
        {
          "output_type": "execute_result",
          "data": {
            "text/plain": [
              "['kg', 'pound']"
            ]
          },
          "metadata": {},
          "execution_count": 43
        }
      ]
    },
    {
      "cell_type": "markdown",
      "metadata": {
        "id": "v87bSNRoaYxP"
      },
      "source": [
        "Bài tập chương 9"
      ]
    },
    {
      "cell_type": "markdown",
      "metadata": {
        "id": "31zmuM3eaeK9"
      },
      "source": [
        "1."
      ]
    },
    {
      "cell_type": "code",
      "metadata": {
        "id": "RlBr7LUSail4",
        "outputId": "86e3d287-53cc-4c41-d655-6cfbb1f70dc1",
        "colab": {
          "base_uri": "https://localhost:8080/"
        }
      },
      "source": [
        "celegans_phenotypes = ['Emb','Him', 'Unc', 'Lon', 'Dpy', 'Sma']\n",
        "for phenotype in celegans_phenotypes:\n",
        "  print(phenotype)"
      ],
      "execution_count": 44,
      "outputs": [
        {
          "output_type": "stream",
          "name": "stdout",
          "text": [
            "Emb\n",
            "Him\n",
            "Unc\n",
            "Lon\n",
            "Dpy\n",
            "Sma\n"
          ]
        }
      ]
    },
    {
      "cell_type": "markdown",
      "metadata": {
        "id": "nvDlVlySannS"
      },
      "source": [
        "2."
      ]
    },
    {
      "cell_type": "code",
      "metadata": {
        "id": "yJQEHV8xaoME",
        "outputId": "c9adfc1b-ef6e-43ea-af58-98ddd813acd2",
        "colab": {
          "base_uri": "https://localhost:8080/"
        }
      },
      "source": [
        "half_lives=[87.74, 24110.0, 6537.0, 14.4, 376000.0]\n",
        "for value in half_lives:\n",
        "  print(value, end=' ')"
      ],
      "execution_count": 45,
      "outputs": [
        {
          "output_type": "stream",
          "name": "stdout",
          "text": [
            "87.74 24110.0 6537.0 14.4 376000.0 "
          ]
        }
      ]
    },
    {
      "cell_type": "markdown",
      "metadata": {
        "id": "CNXQfHqvaxCC"
      },
      "source": [
        "3."
      ]
    },
    {
      "cell_type": "code",
      "metadata": {
        "id": "64yXRzIaaxeU",
        "outputId": "585b811f-5782-4057-8150-2dd4d93351e6",
        "colab": {
          "base_uri": "https://localhost:8080/"
        }
      },
      "source": [
        "whales = [5, 4, 7, 3, 2, 3, 2, 6, 4, 2, 1, 7, 1, 3]\n",
        "more_whales = []\n",
        "for count in whales:\n",
        "  more_whales.append(count + 1)\n",
        "more_whales"
      ],
      "execution_count": 46,
      "outputs": [
        {
          "output_type": "execute_result",
          "data": {
            "text/plain": [
              "[6, 5, 8, 4, 3, 4, 3, 7, 5, 3, 2, 8, 2, 4]"
            ]
          },
          "metadata": {},
          "execution_count": 46
        }
      ]
    },
    {
      "cell_type": "markdown",
      "metadata": {
        "id": "oH6gE0bUa63F"
      },
      "source": [
        "4."
      ]
    },
    {
      "cell_type": "code",
      "metadata": {
        "id": "YsoqkN7Xa8Nw"
      },
      "source": [
        "alkaline_earth_metals = [[4, 9.012], [12, 24.305],\n",
        "[20, 40.078], [38, 87.62],\n",
        "[56, 137.327], [88, 226]]"
      ],
      "execution_count": 47,
      "outputs": []
    },
    {
      "cell_type": "code",
      "metadata": {
        "id": "iNdgjNYUa-Ta",
        "outputId": "96de6f7b-4628-4e4b-bba1-018483240e30",
        "colab": {
          "base_uri": "https://localhost:8080/"
        }
      },
      "source": [
        "for inner_list in alkaline_earth_metals:\n",
        "  print(inner_list[0])\n",
        "  print(inner_list[1])"
      ],
      "execution_count": 48,
      "outputs": [
        {
          "output_type": "stream",
          "name": "stdout",
          "text": [
            "4\n",
            "9.012\n",
            "12\n",
            "24.305\n",
            "20\n",
            "40.078\n",
            "38\n",
            "87.62\n",
            "56\n",
            "137.327\n",
            "88\n",
            "226\n"
          ]
        }
      ]
    },
    {
      "cell_type": "code",
      "metadata": {
        "id": "y8ciWZj3bCWk",
        "outputId": "87d5d0ea-86e4-4e99-c617-3d53462cfcb1",
        "colab": {
          "base_uri": "https://localhost:8080/"
        }
      },
      "source": [
        "number_and_weight = []\n",
        "for inner_list in alkaline_earth_metals:\n",
        "  number_and_weight.append(inner_list[0])\n",
        "  number_and_weight.append(inner_list[1])\n",
        "number_and_weight"
      ],
      "execution_count": 49,
      "outputs": [
        {
          "output_type": "execute_result",
          "data": {
            "text/plain": [
              "[4, 9.012, 12, 24.305, 20, 40.078, 38, 87.62, 56, 137.327, 88, 226]"
            ]
          },
          "metadata": {},
          "execution_count": 49
        }
      ]
    },
    {
      "cell_type": "markdown",
      "metadata": {
        "id": "-w77W6A0bZur"
      },
      "source": [
        "5."
      ]
    },
    {
      "cell_type": "code",
      "metadata": {
        "id": "FKidaIr7baWA",
        "outputId": "2d9e4f51-d46a-420c-c315-598cab6552ba",
        "colab": {
          "base_uri": "https://localhost:8080/"
        }
      },
      "source": [
        "def mystery_function(values):\n",
        "  \"\"\" (list) -> list\n",
        "\n",
        "Return a copy of the list, values, and the sublists it contains.\n",
        "The top-level sublists have their elements reversed in the returned\n",
        "list.\n",
        "\n",
        ">>> mystery_function([[1, 2, 3], [4, 5, 6]])\n",
        "[[3, 2, 1], [6, 5, 4]]\n",
        "\"\"\"\n",
        "  result = []\n",
        "  for sublist in values:\n",
        "    result.append([sublist[0]])\n",
        "  for i in sublist[1:]:\n",
        "    result[-1].insert(0, i)\n",
        "  return result\n",
        "mystery_function([[1, 2, 3], [4, 5, 6]])\n",
        "[[3, 2, 1], [6, 5, 4]]"
      ],
      "execution_count": 50,
      "outputs": [
        {
          "output_type": "execute_result",
          "data": {
            "text/plain": [
              "[[3, 2, 1], [6, 5, 4]]"
            ]
          },
          "metadata": {},
          "execution_count": 50
        }
      ]
    },
    {
      "cell_type": "markdown",
      "metadata": {
        "id": "i3ZYRnWKb2GS"
      },
      "source": [
        "6."
      ]
    },
    {
      "cell_type": "code",
      "metadata": {
        "id": "Lz1pcrKrb21m",
        "outputId": "613638ad-6fed-488c-b359-d4bf126ccc34",
        "colab": {
          "base_uri": "https://localhost:8080/"
        }
      },
      "source": [
        "text = \"\"\n",
        "while text.lower() != \"quit\":\n",
        "  text = input(\"Please enter a chemical formula (or 'quit' to exit): \")\n",
        "  if text == \"quit\":\n",
        "    print(\"...exiting program\")\n",
        "  elif text == \"H2O\":\n",
        "    print(\"Water\")\n",
        "  elif text == \"NH3\":\n",
        "    print(\"Ammonia\")\n",
        "  elif text == \"CH4\":\n",
        "    print(\"Methane\")\n",
        "  else:\n",
        "    print(\"Unknown compound\")"
      ],
      "execution_count": 51,
      "outputs": [
        {
          "output_type": "stream",
          "name": "stdout",
          "text": [
            "Please enter a chemical formula (or 'quit' to exit): H2O\n",
            "Water\n",
            "Please enter a chemical formula (or 'quit' to exit): CH4\n",
            "Methane\n",
            "Please enter a chemical formula (or 'quit' to exit): quit\n",
            "...exiting program\n"
          ]
        }
      ]
    },
    {
      "cell_type": "markdown",
      "metadata": {
        "id": "CSx6Ved1cNWU"
      },
      "source": [
        "7."
      ]
    },
    {
      "cell_type": "code",
      "metadata": {
        "id": "64lt9JCGcPxB",
        "outputId": "f11edca9-f662-4c22-b3ed-6c8c6c75e31d",
        "colab": {
          "base_uri": "https://localhost:8080/"
        }
      },
      "source": [
        "country_populations = [1295, 23, 7, 3, 47, 21]\n",
        "total = 0\n",
        "for population in country_populations:\n",
        "  total += population\n",
        "total"
      ],
      "execution_count": 52,
      "outputs": [
        {
          "output_type": "execute_result",
          "data": {
            "text/plain": [
              "1396"
            ]
          },
          "metadata": {},
          "execution_count": 52
        }
      ]
    },
    {
      "cell_type": "markdown",
      "metadata": {
        "id": "Mko0l4O0dekr"
      },
      "source": [
        "8."
      ]
    },
    {
      "cell_type": "code",
      "metadata": {
        "id": "G_q1t7l4dfjY",
        "outputId": "454c617f-d801-4ae3-fd3c-12ce3fbfbd33",
        "colab": {
          "base_uri": "https://localhost:8080/"
        }
      },
      "source": [
        "import numpy as np\n",
        "rat_1=np.random.randint(10,size=10)\n",
        "rat_2=np.random.randint(10,size=10)\n",
        "print(rat_1)\n",
        "print(rat_2)\n",
        "if rat_1[0] > rat_2[0]:\n",
        "  print(\"Rat 1 weighed more than rat 2 on day 1.\")\n",
        "else:\n",
        "  print(\"Rat 1 weighed less than rat 2 on day 1.\")"
      ],
      "execution_count": 53,
      "outputs": [
        {
          "output_type": "stream",
          "name": "stdout",
          "text": [
            "[1 5 7 6 0 4 3 2 4 0]\n",
            "[1 1 4 0 3 6 9 0 5 4]\n",
            "Rat 1 weighed less than rat 2 on day 1.\n"
          ]
        }
      ]
    },
    {
      "cell_type": "code",
      "metadata": {
        "id": "c2MAU5ctdqfp",
        "outputId": "433bbfc3-e743-4c50-98f8-6565ab04bf1d",
        "colab": {
          "base_uri": "https://localhost:8080/"
        }
      },
      "source": [
        "print(rat_1)\n",
        "print(rat_2)\n",
        "if rat_1[0] > rat_2[0] and rat_1[-1] > rat_2[-1]:\n",
        "  print(\"Rat 1 remained heavier than Rat 2.\")\n",
        "else:\n",
        "  print(\"Rat 2 became heavier than Rat 1.\")"
      ],
      "execution_count": 54,
      "outputs": [
        {
          "output_type": "stream",
          "name": "stdout",
          "text": [
            "[1 5 7 6 0 4 3 2 4 0]\n",
            "[1 1 4 0 3 6 9 0 5 4]\n",
            "Rat 2 became heavier than Rat 1.\n"
          ]
        }
      ]
    },
    {
      "cell_type": "code",
      "metadata": {
        "id": "jf7L5r_mdv_l",
        "outputId": "c8530116-43fe-4ec2-d70d-5754644d516a",
        "colab": {
          "base_uri": "https://localhost:8080/"
        }
      },
      "source": [
        "if rat_1[0] > rat_2[0]:\n",
        "  if rat_1[-1] > rat_2[-1]:\n",
        "    print(\"Rat 1 remained heavier than Rat 2.\")\n",
        "  else:\n",
        "    print(\"Rat 2 became heavier than Rat 1.\")\n",
        "else:\n",
        "  print(\"Rat 2 became heavier than Rat 1.\")"
      ],
      "execution_count": 55,
      "outputs": [
        {
          "output_type": "stream",
          "name": "stdout",
          "text": [
            "Rat 2 became heavier than Rat 1.\n"
          ]
        }
      ]
    },
    {
      "cell_type": "markdown",
      "metadata": {
        "id": "CkgnDo87eJpC"
      },
      "source": [
        "9."
      ]
    },
    {
      "cell_type": "code",
      "metadata": {
        "id": "PtKMzB-ieKcg",
        "outputId": "cfbe6e52-c506-4dcb-e8d2-5e21344ba1de",
        "colab": {
          "base_uri": "https://localhost:8080/"
        }
      },
      "source": [
        "for number in range(33, 50):\n",
        "  print(number)"
      ],
      "execution_count": 56,
      "outputs": [
        {
          "output_type": "stream",
          "name": "stdout",
          "text": [
            "33\n",
            "34\n",
            "35\n",
            "36\n",
            "37\n",
            "38\n",
            "39\n",
            "40\n",
            "41\n",
            "42\n",
            "43\n",
            "44\n",
            "45\n",
            "46\n",
            "47\n",
            "48\n",
            "49\n"
          ]
        }
      ]
    },
    {
      "cell_type": "markdown",
      "metadata": {
        "id": "8ENk6Hngh40U"
      },
      "source": [
        "10."
      ]
    },
    {
      "cell_type": "code",
      "metadata": {
        "id": "Y5CYgRnGh5mR",
        "outputId": "4e75ff71-b13a-4a1b-af5b-213c91e18a25",
        "colab": {
          "base_uri": "https://localhost:8080/"
        }
      },
      "source": [
        "for number in range(10):\n",
        "  print(10 - number, end=' ')"
      ],
      "execution_count": 57,
      "outputs": [
        {
          "output_type": "stream",
          "name": "stdout",
          "text": [
            "10 9 8 7 6 5 4 3 2 1 "
          ]
        }
      ]
    },
    {
      "cell_type": "markdown",
      "metadata": {
        "id": "tIOhZ5Uyh-Pl"
      },
      "source": [
        "11."
      ]
    },
    {
      "cell_type": "code",
      "metadata": {
        "id": "_yl3UFaJh_Di",
        "outputId": "1237c993-eac9-4979-f190-b7e402a5421f",
        "colab": {
          "base_uri": "https://localhost:8080/"
        }
      },
      "source": [
        "sum = 0\n",
        "count = 0\n",
        "for number in range(2,23):\n",
        "  sum += number\n",
        "  count += 1\n",
        "average = sum / count\n",
        "average"
      ],
      "execution_count": 58,
      "outputs": [
        {
          "output_type": "execute_result",
          "data": {
            "text/plain": [
              "12.0"
            ]
          },
          "metadata": {},
          "execution_count": 58
        }
      ]
    },
    {
      "cell_type": "markdown",
      "metadata": {
        "id": "V-jcB9zWiDUl"
      },
      "source": [
        "12."
      ]
    },
    {
      "cell_type": "code",
      "metadata": {
        "id": "YSSYIwy7iELN"
      },
      "source": [
        "def remove_neg(num_list):\n",
        "  index = 0\n",
        "  while index < len(num_list):\n",
        "    if num_list[index] < 0:\n",
        "      del num_list[index]\n",
        "    else:\n",
        "      index += 1\n",
        "remove_neg([2,4,5,12,3])"
      ],
      "execution_count": 59,
      "outputs": []
    },
    {
      "cell_type": "markdown",
      "metadata": {
        "id": "j0Wwis-Zif4z"
      },
      "source": [
        "13."
      ]
    },
    {
      "cell_type": "code",
      "metadata": {
        "id": "q2V1sLLeigwy",
        "outputId": "877f8459-da07-4172-9607-999b6a106de4",
        "colab": {
          "base_uri": "https://localhost:8080/"
        }
      },
      "source": [
        "for width in range(1, 8):\n",
        "  print('T' * width)"
      ],
      "execution_count": 60,
      "outputs": [
        {
          "output_type": "stream",
          "name": "stdout",
          "text": [
            "T\n",
            "TT\n",
            "TTT\n",
            "TTTT\n",
            "TTTTT\n",
            "TTTTTT\n",
            "TTTTTTT\n"
          ]
        }
      ]
    },
    {
      "cell_type": "markdown",
      "metadata": {
        "id": "VGlL9owQjcbs"
      },
      "source": [
        "14."
      ]
    },
    {
      "cell_type": "code",
      "metadata": {
        "id": "pFaN5JN5jdy-",
        "outputId": "9db718e0-1887-4f36-eb1f-0f3d0683e7de",
        "colab": {
          "base_uri": "https://localhost:8080/",
          "height": 178
        }
      },
      "source": [
        "for width in range(1, 8):\n",
        "  print(''(7 - width), 'T' * width, sep='')\n"
      ],
      "execution_count": 61,
      "outputs": [
        {
          "output_type": "error",
          "ename": "TypeError",
          "evalue": "ignored",
          "traceback": [
            "\u001b[0;31m---------------------------------------------------------------------------\u001b[0m",
            "\u001b[0;31mTypeError\u001b[0m                                 Traceback (most recent call last)",
            "\u001b[0;32m<ipython-input-61-69e8402ab9c1>\u001b[0m in \u001b[0;36m<module>\u001b[0;34m()\u001b[0m\n\u001b[1;32m      1\u001b[0m \u001b[0;32mfor\u001b[0m \u001b[0mwidth\u001b[0m \u001b[0;32min\u001b[0m \u001b[0mrange\u001b[0m\u001b[0;34m(\u001b[0m\u001b[0;36m1\u001b[0m\u001b[0;34m,\u001b[0m \u001b[0;36m8\u001b[0m\u001b[0;34m)\u001b[0m\u001b[0;34m:\u001b[0m\u001b[0;34m\u001b[0m\u001b[0;34m\u001b[0m\u001b[0m\n\u001b[0;32m----> 2\u001b[0;31m   \u001b[0mprint\u001b[0m\u001b[0;34m(\u001b[0m\u001b[0;34m''\u001b[0m\u001b[0;34m(\u001b[0m\u001b[0;36m7\u001b[0m \u001b[0;34m-\u001b[0m \u001b[0mwidth\u001b[0m\u001b[0;34m)\u001b[0m\u001b[0;34m,\u001b[0m \u001b[0;34m'T'\u001b[0m \u001b[0;34m*\u001b[0m \u001b[0mwidth\u001b[0m\u001b[0;34m,\u001b[0m \u001b[0msep\u001b[0m\u001b[0;34m=\u001b[0m\u001b[0;34m''\u001b[0m\u001b[0;34m)\u001b[0m\u001b[0;34m\u001b[0m\u001b[0;34m\u001b[0m\u001b[0m\n\u001b[0m",
            "\u001b[0;31mTypeError\u001b[0m: 'str' object is not callable"
          ]
        }
      ]
    },
    {
      "cell_type": "markdown",
      "metadata": {
        "id": "2U4KGru0k03F"
      },
      "source": [
        "15."
      ]
    },
    {
      "cell_type": "code",
      "metadata": {
        "id": "Gfp3PsVek2by",
        "outputId": "88217d2e-4f09-4f9e-b640-07f8735ed709",
        "colab": {
          "base_uri": "https://localhost:8080/"
        }
      },
      "source": [
        "width = 1\n",
        "while width < 8:\n",
        "  print('T' * width)\n",
        "  width += 1\n"
      ],
      "execution_count": 62,
      "outputs": [
        {
          "output_type": "stream",
          "name": "stdout",
          "text": [
            "T\n",
            "TT\n",
            "TTT\n",
            "TTTT\n",
            "TTTTT\n",
            "TTTTTT\n",
            "TTTTTTT\n"
          ]
        }
      ]
    },
    {
      "cell_type": "markdown",
      "metadata": {
        "id": "K35kHI8Olj0h"
      },
      "source": [
        "16."
      ]
    },
    {
      "cell_type": "code",
      "metadata": {
        "id": "ggqhZigClksT"
      },
      "source": [
        "week = 1\n",
        "while rat_1_weight[week] / rat_1_weight[0] - 1 < .25:\n",
        "  week += 1\n",
        "print(week)\n"
      ],
      "execution_count": null,
      "outputs": []
    },
    {
      "cell_type": "code",
      "metadata": {
        "id": "C5HIOVyJlrb8"
      },
      "source": [
        "week = 0\n",
        "while rat_1_weight[week] / rat_2_weight[week] - 1 < .10:\n",
        "  week += 1\n",
        "print(week)"
      ],
      "execution_count": null,
      "outputs": []
    }
  ]
}