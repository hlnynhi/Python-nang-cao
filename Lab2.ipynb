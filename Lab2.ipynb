{
  "nbformat": 4,
  "nbformat_minor": 0,
  "metadata": {
    "colab": {
      "name": "Lab2.ipynb",
      "provenance": [],
      "authorship_tag": "ABX9TyO/Taw8G3+C6LHtoRrJMWmA",
      "include_colab_link": true
    },
    "kernelspec": {
      "name": "python3",
      "display_name": "Python 3"
    },
    "language_info": {
      "name": "python"
    }
  },
  "cells": [
    {
      "cell_type": "markdown",
      "metadata": {
        "id": "view-in-github",
        "colab_type": "text"
      },
      "source": [
        "<a href=\"https://colab.research.google.com/github/hlnynhi/Python-nang-cao/blob/main/Lab2.ipynb\" target=\"_parent\"><img src=\"https://colab.research.google.com/assets/colab-badge.svg\" alt=\"Open In Colab\"/></a>"
      ]
    },
    {
      "cell_type": "markdown",
      "metadata": {
        "id": "8sRjs5MMUGwk"
      },
      "source": [
        "Bài tập chương 8\n"
      ]
    },
    {
      "cell_type": "markdown",
      "metadata": {
        "id": "t56BOhXAVMa0"
      },
      "source": [
        "1."
      ]
    },
    {
      "cell_type": "code",
      "metadata": {
        "colab": {
          "base_uri": "https://localhost:8080/",
          "height": 35
        },
        "id": "6X5ROsyVUKAL",
        "outputId": "e2ecb69c-4456-4901-d9d0-c251c4694ae1"
      },
      "source": [
        "kingdoms = ['Bacteria', 'Protozoa', 'Chromista', 'Plantae', 'Fungi', 'Animalia']\n",
        "kingdoms[0]"
      ],
      "execution_count": 1,
      "outputs": [
        {
          "output_type": "execute_result",
          "data": {
            "application/vnd.google.colaboratory.intrinsic+json": {
              "type": "string"
            },
            "text/plain": [
              "'Bacteria'"
            ]
          },
          "metadata": {},
          "execution_count": 1
        }
      ]
    },
    {
      "cell_type": "code",
      "metadata": {
        "colab": {
          "base_uri": "https://localhost:8080/",
          "height": 35
        },
        "id": "-J77kYs-U6dA",
        "outputId": "c26f2529-f81b-4ca6-c3e6-b2839a037d5d"
      },
      "source": [
        "kingdoms[5]"
      ],
      "execution_count": 2,
      "outputs": [
        {
          "output_type": "execute_result",
          "data": {
            "application/vnd.google.colaboratory.intrinsic+json": {
              "type": "string"
            },
            "text/plain": [
              "'Animalia'"
            ]
          },
          "metadata": {},
          "execution_count": 2
        }
      ]
    },
    {
      "cell_type": "code",
      "metadata": {
        "colab": {
          "base_uri": "https://localhost:8080/"
        },
        "id": "Ix0Sok_zU-sc",
        "outputId": "3c34ee35-9034-4537-b003-4b27a59e79f9"
      },
      "source": [
        "kingdoms[:3]"
      ],
      "execution_count": 3,
      "outputs": [
        {
          "output_type": "execute_result",
          "data": {
            "text/plain": [
              "['Bacteria', 'Protozoa', 'Chromista']"
            ]
          },
          "metadata": {},
          "execution_count": 3
        }
      ]
    },
    {
      "cell_type": "code",
      "metadata": {
        "colab": {
          "base_uri": "https://localhost:8080/"
        },
        "id": "gycQVRXWVAoU",
        "outputId": "f609d1a7-0303-4e86-b1b6-e77b30c1bb02"
      },
      "source": [
        "kingdoms[2:5]"
      ],
      "execution_count": 4,
      "outputs": [
        {
          "output_type": "execute_result",
          "data": {
            "text/plain": [
              "['Chromista', 'Plantae', 'Fungi']"
            ]
          },
          "metadata": {},
          "execution_count": 4
        }
      ]
    },
    {
      "cell_type": "code",
      "metadata": {
        "colab": {
          "base_uri": "https://localhost:8080/"
        },
        "id": "e45iR_S8VCpd",
        "outputId": "dc1bc90f-e912-48e8-cf47-dc91a8567467"
      },
      "source": [
        "kingdoms[4:]"
      ],
      "execution_count": 5,
      "outputs": [
        {
          "output_type": "execute_result",
          "data": {
            "text/plain": [
              "['Fungi', 'Animalia']"
            ]
          },
          "metadata": {},
          "execution_count": 5
        }
      ]
    },
    {
      "cell_type": "code",
      "metadata": {
        "colab": {
          "base_uri": "https://localhost:8080/"
        },
        "id": "i_YqS2P3VEwe",
        "outputId": "8e756b2e-6da2-4bd4-f11a-df16df91b983"
      },
      "source": [
        "kingdoms[1:0]"
      ],
      "execution_count": 6,
      "outputs": [
        {
          "output_type": "execute_result",
          "data": {
            "text/plain": [
              "[]"
            ]
          },
          "metadata": {},
          "execution_count": 6
        }
      ]
    },
    {
      "cell_type": "markdown",
      "metadata": {
        "id": "_cYIUcvAVP6Y"
      },
      "source": [
        "2."
      ]
    },
    {
      "cell_type": "code",
      "metadata": {
        "colab": {
          "base_uri": "https://localhost:8080/",
          "height": 35
        },
        "id": "mUgQC7pqVQ0k",
        "outputId": "987200c0-86d0-480e-fe85-85b2c9906c38"
      },
      "source": [
        "kingdoms[-6]"
      ],
      "execution_count": 7,
      "outputs": [
        {
          "output_type": "execute_result",
          "data": {
            "application/vnd.google.colaboratory.intrinsic+json": {
              "type": "string"
            },
            "text/plain": [
              "'Bacteria'"
            ]
          },
          "metadata": {},
          "execution_count": 7
        }
      ]
    },
    {
      "cell_type": "code",
      "metadata": {
        "colab": {
          "base_uri": "https://localhost:8080/",
          "height": 35
        },
        "id": "qqpNh0TGVVFc",
        "outputId": "1e051b37-0bbe-4244-d20e-d8940ec5f8a9"
      },
      "source": [
        "kingdoms[-1]"
      ],
      "execution_count": 8,
      "outputs": [
        {
          "output_type": "execute_result",
          "data": {
            "application/vnd.google.colaboratory.intrinsic+json": {
              "type": "string"
            },
            "text/plain": [
              "'Animalia'"
            ]
          },
          "metadata": {},
          "execution_count": 8
        }
      ]
    },
    {
      "cell_type": "code",
      "metadata": {
        "colab": {
          "base_uri": "https://localhost:8080/"
        },
        "id": "undDGobZVXFW",
        "outputId": "2c76d990-5616-4f0a-8b56-0bce31f1e50d"
      },
      "source": [
        "kingdoms[-6:-3]"
      ],
      "execution_count": 9,
      "outputs": [
        {
          "output_type": "execute_result",
          "data": {
            "text/plain": [
              "['Bacteria', 'Protozoa', 'Chromista']"
            ]
          },
          "metadata": {},
          "execution_count": 9
        }
      ]
    },
    {
      "cell_type": "code",
      "metadata": {
        "colab": {
          "base_uri": "https://localhost:8080/"
        },
        "id": "8dwQV23zVbLS",
        "outputId": "70d37f1e-7fc8-43a3-cac8-01d4fed4d6e0"
      },
      "source": [
        "kingdoms[-4:-1]"
      ],
      "execution_count": 10,
      "outputs": [
        {
          "output_type": "execute_result",
          "data": {
            "text/plain": [
              "['Chromista', 'Plantae', 'Fungi']"
            ]
          },
          "metadata": {},
          "execution_count": 10
        }
      ]
    },
    {
      "cell_type": "code",
      "metadata": {
        "colab": {
          "base_uri": "https://localhost:8080/"
        },
        "id": "8VJWimRtVdr5",
        "outputId": "15ecf5b6-9c59-4e2b-c777-83f84a7c0d27"
      },
      "source": [
        "kingdoms[-2:]"
      ],
      "execution_count": 11,
      "outputs": [
        {
          "output_type": "execute_result",
          "data": {
            "text/plain": [
              "['Fungi', 'Animalia']"
            ]
          },
          "metadata": {},
          "execution_count": 11
        }
      ]
    },
    {
      "cell_type": "code",
      "metadata": {
        "colab": {
          "base_uri": "https://localhost:8080/"
        },
        "id": "tfd_vqdQVfXr",
        "outputId": "5af0d410-ea2f-4d88-d757-63842275faf2"
      },
      "source": [
        "kingdoms[-1:-2]"
      ],
      "execution_count": 12,
      "outputs": [
        {
          "output_type": "execute_result",
          "data": {
            "text/plain": [
              "[]"
            ]
          },
          "metadata": {},
          "execution_count": 12
        }
      ]
    },
    {
      "cell_type": "markdown",
      "metadata": {
        "id": "lbA_01p_Vt7M"
      },
      "source": [
        "3."
      ]
    },
    {
      "cell_type": "code",
      "metadata": {
        "colab": {
          "base_uri": "https://localhost:8080/"
        },
        "id": "UyWHb_eqVvAN",
        "outputId": "cea0f3a6-1d0c-41cc-89fc-4576e7952fbc"
      },
      "source": [
        "appointments=['9:00', '10:30', '14:00', '15:00', '15:30']\n",
        "appointments.append('16:30')\n",
        "appointments"
      ],
      "execution_count": 13,
      "outputs": [
        {
          "output_type": "execute_result",
          "data": {
            "text/plain": [
              "['9:00', '10:30', '14:00', '15:00', '15:30', '16:30']"
            ]
          },
          "metadata": {},
          "execution_count": 13
        }
      ]
    },
    {
      "cell_type": "code",
      "metadata": {
        "colab": {
          "base_uri": "https://localhost:8080/"
        },
        "id": "gzPwGhsIWGzE",
        "outputId": "e1f2b004-2ca5-4a75-844c-02c5bc44cb87"
      },
      "source": [
        "appointment=['9:00', '10:30', '14:00', '15:00', '15:30']\n",
        "appointment += ['16:30']\n",
        "appointment\n"
      ],
      "execution_count": 14,
      "outputs": [
        {
          "output_type": "execute_result",
          "data": {
            "text/plain": [
              "['9:00', '10:30', '14:00', '15:00', '15:30', '16:30']"
            ]
          },
          "metadata": {},
          "execution_count": 14
        }
      ]
    },
    {
      "cell_type": "markdown",
      "metadata": {
        "id": "Y2u5lfo5Xso0"
      },
      "source": [
        "4."
      ]
    },
    {
      "cell_type": "code",
      "metadata": {
        "colab": {
          "base_uri": "https://localhost:8080/"
        },
        "id": "7z1flYUVXt3c",
        "outputId": "efd48a1a-b271-4ded-e3e8-09460c34ec8a"
      },
      "source": [
        "ids= [4353, 2314, 2956, 3382, 9362, 3900]\n",
        "ids.remove(3382)\n",
        "ids"
      ],
      "execution_count": 15,
      "outputs": [
        {
          "output_type": "execute_result",
          "data": {
            "text/plain": [
              "[4353, 2314, 2956, 9362, 3900]"
            ]
          },
          "metadata": {},
          "execution_count": 15
        }
      ]
    },
    {
      "cell_type": "code",
      "metadata": {
        "colab": {
          "base_uri": "https://localhost:8080/"
        },
        "id": "_leHZHQ1avhj",
        "outputId": "e87758ab-9c25-4b68-8089-bf115426f806"
      },
      "source": [
        "ids.index(9362)"
      ],
      "execution_count": 16,
      "outputs": [
        {
          "output_type": "execute_result",
          "data": {
            "text/plain": [
              "3"
            ]
          },
          "metadata": {},
          "execution_count": 16
        }
      ]
    },
    {
      "cell_type": "code",
      "metadata": {
        "colab": {
          "base_uri": "https://localhost:8080/"
        },
        "id": "GGeecSW0YbwP",
        "outputId": "f0a3194f-cc3d-48e9-9349-7bb49fe716c2"
      },
      "source": [
        "ids.insert(4, 4499)\n",
        "ids"
      ],
      "execution_count": 17,
      "outputs": [
        {
          "output_type": "execute_result",
          "data": {
            "text/plain": [
              "[4353, 2314, 2956, 9362, 4499, 3900]"
            ]
          },
          "metadata": {},
          "execution_count": 17
        }
      ]
    },
    {
      "cell_type": "code",
      "metadata": {
        "colab": {
          "base_uri": "https://localhost:8080/"
        },
        "id": "Gw6MMp5veP3T",
        "outputId": "24acf365-b5f0-4bf2-a996-e696691e6fc1"
      },
      "source": [
        "ids.append([5566, 1830])\n",
        "ids"
      ],
      "execution_count": 18,
      "outputs": [
        {
          "output_type": "execute_result",
          "data": {
            "text/plain": [
              "[4353, 2314, 2956, 9362, 4499, 3900, [5566, 1830]]"
            ]
          },
          "metadata": {},
          "execution_count": 18
        }
      ]
    },
    {
      "cell_type": "code",
      "metadata": {
        "colab": {
          "base_uri": "https://localhost:8080/"
        },
        "id": "c1wabd_QfH4z",
        "outputId": "13c80e45-8547-4274-bbfd-86eff3b29db2"
      },
      "source": [
        "ids.reverse()\n",
        "ids"
      ],
      "execution_count": 19,
      "outputs": [
        {
          "output_type": "execute_result",
          "data": {
            "text/plain": [
              "[[5566, 1830], 3900, 4499, 9362, 2956, 2314, 4353]"
            ]
          },
          "metadata": {},
          "execution_count": 19
        }
      ]
    },
    {
      "cell_type": "code",
      "metadata": {
        "id": "3efW_r0Aj7Ee"
      },
      "source": [
        "\n"
      ],
      "execution_count": 19,
      "outputs": []
    },
    {
      "cell_type": "markdown",
      "metadata": {
        "id": "zOdsOkpwofy3"
      },
      "source": [
        "5."
      ]
    },
    {
      "cell_type": "code",
      "metadata": {
        "colab": {
          "base_uri": "https://localhost:8080/"
        },
        "id": "GOgSQDdaogoJ",
        "outputId": "6c5be7e9-5e28-4700-909c-4dac590273bc"
      },
      "source": [
        "alkaline_earth_metals=[4, 8, 12, 20, 38, 56, 88]\n",
        "alkaline_earth_metals"
      ],
      "execution_count": 20,
      "outputs": [
        {
          "output_type": "execute_result",
          "data": {
            "text/plain": [
              "[4, 8, 12, 20, 38, 56, 88]"
            ]
          },
          "metadata": {},
          "execution_count": 20
        }
      ]
    },
    {
      "cell_type": "code",
      "metadata": {
        "colab": {
          "base_uri": "https://localhost:8080/"
        },
        "id": "Nv-19QoJpzFo",
        "outputId": "a5c087e4-2331-4439-d206-b771e8fe3224"
      },
      "source": [
        "alkaline_earth_metals[5]"
      ],
      "execution_count": 21,
      "outputs": [
        {
          "output_type": "execute_result",
          "data": {
            "text/plain": [
              "56"
            ]
          },
          "metadata": {},
          "execution_count": 21
        }
      ]
    },
    {
      "cell_type": "code",
      "metadata": {
        "colab": {
          "base_uri": "https://localhost:8080/"
        },
        "id": "GGJZtBFdrdmK",
        "outputId": "f0d3eb29-f46b-4fb9-f0aa-cb44c6ce3540"
      },
      "source": [
        "alkaline_earth_metals[-1]"
      ],
      "execution_count": 22,
      "outputs": [
        {
          "output_type": "execute_result",
          "data": {
            "text/plain": [
              "88"
            ]
          },
          "metadata": {},
          "execution_count": 22
        }
      ]
    },
    {
      "cell_type": "code",
      "metadata": {
        "colab": {
          "base_uri": "https://localhost:8080/"
        },
        "id": "NLFXfU7Xrpfn",
        "outputId": "b1b789f5-ce75-410b-bfa1-c3fa7daf4689"
      },
      "source": [
        "count=0\n",
        "for i in alkaline_earth_metals:\n",
        "  count+=1\n",
        "count"
      ],
      "execution_count": 23,
      "outputs": [
        {
          "output_type": "execute_result",
          "data": {
            "text/plain": [
              "7"
            ]
          },
          "metadata": {},
          "execution_count": 23
        }
      ]
    },
    {
      "cell_type": "code",
      "metadata": {
        "id": "n5APxD8svvRq",
        "outputId": "cb0a954b-284d-461d-e43a-a08a3655b749",
        "colab": {
          "base_uri": "https://localhost:8080/"
        }
      },
      "source": [
        "max(alkaline_earth_metals)"
      ],
      "execution_count": 24,
      "outputs": [
        {
          "output_type": "execute_result",
          "data": {
            "text/plain": [
              "88"
            ]
          },
          "metadata": {},
          "execution_count": 24
        }
      ]
    },
    {
      "cell_type": "markdown",
      "metadata": {
        "id": "y59tC8FGvxN3"
      },
      "source": [
        "6."
      ]
    },
    {
      "cell_type": "code",
      "metadata": {
        "id": "jn7V_JDmvyV3"
      },
      "source": [
        "temps=[25.2, 16.8, 31.4, 23.9, 28, 22.5, 19.6]"
      ],
      "execution_count": 25,
      "outputs": []
    },
    {
      "cell_type": "code",
      "metadata": {
        "colab": {
          "base_uri": "https://localhost:8080/"
        },
        "id": "rPAfwQefxL5c",
        "outputId": "aeac0bf8-7757-4a5d-c98e-b9d50b541d37"
      },
      "source": [
        "temps.sort()\n",
        "temps"
      ],
      "execution_count": 26,
      "outputs": [
        {
          "output_type": "execute_result",
          "data": {
            "text/plain": [
              "[16.8, 19.6, 22.5, 23.9, 25.2, 28, 31.4]"
            ]
          },
          "metadata": {},
          "execution_count": 26
        }
      ]
    },
    {
      "cell_type": "code",
      "metadata": {
        "colab": {
          "base_uri": "https://localhost:8080/"
        },
        "id": "OoAz2G0zyUeW",
        "outputId": "a66967b2-58a8-487b-90df-f78858ea3531"
      },
      "source": [
        "warm_temps=[]\n",
        "cool_temps=[]\n",
        "temps1=slice(2)\n",
        "warm_temps=temps[temps1]\n",
        "print(warm_temps)\n",
        "temps2=slice(2,-1)\n",
        "cool_temps=temps[temps2]\n",
        "print(cool_temps)\n"
      ],
      "execution_count": 27,
      "outputs": [
        {
          "output_type": "stream",
          "name": "stdout",
          "text": [
            "[16.8, 19.6]\n",
            "[22.5, 23.9, 25.2, 28]\n"
          ]
        }
      ]
    },
    {
      "cell_type": "code",
      "metadata": {
        "colab": {
          "base_uri": "https://localhost:8080/"
        },
        "id": "Rl1Mowwq6vGl",
        "outputId": "0db393d8-3855-448f-a1a2-dc096c79f462"
      },
      "source": [
        "temps_in_celsius=warm_temps+cool_temps\n",
        "temps_in_celsius"
      ],
      "execution_count": 28,
      "outputs": [
        {
          "output_type": "execute_result",
          "data": {
            "text/plain": [
              "[16.8, 19.6, 22.5, 23.9, 25.2, 28]"
            ]
          },
          "metadata": {},
          "execution_count": 28
        }
      ]
    },
    {
      "cell_type": "markdown",
      "metadata": {
        "id": "ZncvNoqI9mu2"
      },
      "source": [
        "7."
      ]
    },
    {
      "cell_type": "code",
      "metadata": {
        "colab": {
          "base_uri": "https://localhost:8080/"
        },
        "id": "fagVo3TJ9r3c",
        "outputId": "55eba227-288d-4865-b98c-1ce16ea68d9a"
      },
      "source": [
        "def same_first_last(L):\n",
        "  if L[0]==L[-1]:\n",
        "    return True\n",
        "  else:\n",
        "    return False\n",
        "print(same_first_last([3, 4, 2, 8, 3]))\n",
        "print(same_first_last(['apple', 'banana', 'pear']))"
      ],
      "execution_count": 29,
      "outputs": [
        {
          "output_type": "stream",
          "name": "stdout",
          "text": [
            "True\n",
            "False\n"
          ]
        }
      ]
    },
    {
      "cell_type": "markdown",
      "metadata": {
        "id": "_AcTX4UL_TuU"
      },
      "source": [
        "8."
      ]
    },
    {
      "cell_type": "code",
      "metadata": {
        "colab": {
          "base_uri": "https://localhost:8080/"
        },
        "id": "9CAO958Y_UtV",
        "outputId": "5e67e38f-689a-4e1a-cd48-9974619cc296"
      },
      "source": [
        "def is_longer(L1, L2):\n",
        "  if len(L1)>len(L2):\n",
        "    return True\n",
        "  else:\n",
        "    return False\n",
        "print(is_longer([1, 2, 3], [4, 5]))\n",
        "print(is_longer(['abcdef'], ['ab', 'cd', 'ef']))"
      ],
      "execution_count": 30,
      "outputs": [
        {
          "output_type": "stream",
          "name": "stdout",
          "text": [
            "True\n",
            "False\n"
          ]
        }
      ]
    },
    {
      "cell_type": "markdown",
      "metadata": {
        "id": "KxuGyyPQYF8P"
      },
      "source": [
        "9."
      ]
    },
    {
      "cell_type": "code",
      "metadata": {
        "id": "IcmRHnd-YG3C",
        "colab": {
          "base_uri": "https://localhost:8080/"
        },
        "outputId": "845ba905-e745-4905-c236-65f4e94373dc"
      },
      "source": [
        "values = [0, 1, 2]\n",
        "values[1] = values\n",
        "values"
      ],
      "execution_count": 31,
      "outputs": [
        {
          "output_type": "execute_result",
          "data": {
            "text/plain": [
              "[0, [...], 2]"
            ]
          },
          "metadata": {},
          "execution_count": 31
        }
      ]
    },
    {
      "cell_type": "markdown",
      "metadata": {
        "id": "mxsXcdrXYL9Y"
      },
      "source": [
        "10."
      ]
    },
    {
      "cell_type": "code",
      "metadata": {
        "id": "NoyHGv1YZacb"
      },
      "source": [
        "units=[['km', 'miles', 'league'], ['kg', 'pound', 'stone']]"
      ],
      "execution_count": 32,
      "outputs": []
    },
    {
      "cell_type": "code",
      "metadata": {
        "id": "OFH1KnIdZmD3",
        "colab": {
          "base_uri": "https://localhost:8080/"
        },
        "outputId": "2cb413a0-57a0-4b8e-a833-a68fe3237e07"
      },
      "source": [
        "units[0]"
      ],
      "execution_count": 33,
      "outputs": [
        {
          "output_type": "execute_result",
          "data": {
            "text/plain": [
              "['km', 'miles', 'league']"
            ]
          },
          "metadata": {},
          "execution_count": 33
        }
      ]
    },
    {
      "cell_type": "code",
      "metadata": {
        "id": "PdgzUIjqZm83",
        "colab": {
          "base_uri": "https://localhost:8080/"
        },
        "outputId": "b27a7eb2-cdf1-4d53-bd60-7ee5aaff71d3"
      },
      "source": [
        "units[-1]"
      ],
      "execution_count": 34,
      "outputs": [
        {
          "output_type": "execute_result",
          "data": {
            "text/plain": [
              "['kg', 'pound', 'stone']"
            ]
          },
          "metadata": {},
          "execution_count": 34
        }
      ]
    },
    {
      "cell_type": "code",
      "metadata": {
        "id": "jaYyfNAIZyYo",
        "colab": {
          "base_uri": "https://localhost:8080/",
          "height": 35
        },
        "outputId": "63ff5aa5-764d-4aed-a309-6ed9cab1ced9"
      },
      "source": [
        "units[0][0]"
      ],
      "execution_count": 35,
      "outputs": [
        {
          "output_type": "execute_result",
          "data": {
            "application/vnd.google.colaboratory.intrinsic+json": {
              "type": "string"
            },
            "text/plain": [
              "'km'"
            ]
          },
          "metadata": {},
          "execution_count": 35
        }
      ]
    },
    {
      "cell_type": "code",
      "metadata": {
        "id": "I4eg6NoaZ3UY",
        "colab": {
          "base_uri": "https://localhost:8080/",
          "height": 35
        },
        "outputId": "8db66c04-a284-45b6-fc65-85f2bc441167"
      },
      "source": [
        "units[1][0]"
      ],
      "execution_count": 36,
      "outputs": [
        {
          "output_type": "execute_result",
          "data": {
            "application/vnd.google.colaboratory.intrinsic+json": {
              "type": "string"
            },
            "text/plain": [
              "'kg'"
            ]
          },
          "metadata": {},
          "execution_count": 36
        }
      ]
    },
    {
      "cell_type": "code",
      "metadata": {
        "id": "t3-74NxMZ7SH",
        "colab": {
          "base_uri": "https://localhost:8080/"
        },
        "outputId": "1db5f4f9-df96-4d62-9b4c-895ee2ef94fe"
      },
      "source": [
        "units[0][1:]"
      ],
      "execution_count": 37,
      "outputs": [
        {
          "output_type": "execute_result",
          "data": {
            "text/plain": [
              "['miles', 'league']"
            ]
          },
          "metadata": {},
          "execution_count": 37
        }
      ]
    },
    {
      "cell_type": "code",
      "metadata": {
        "id": "pGmbka-JZ_ee",
        "colab": {
          "base_uri": "https://localhost:8080/"
        },
        "outputId": "6820e5ce-1d35-4b32-86cd-04e78b774db5"
      },
      "source": [
        "units[1][0:2]"
      ],
      "execution_count": 38,
      "outputs": [
        {
          "output_type": "execute_result",
          "data": {
            "text/plain": [
              "['kg', 'pound']"
            ]
          },
          "metadata": {},
          "execution_count": 38
        }
      ]
    },
    {
      "cell_type": "markdown",
      "metadata": {
        "id": "cRiUAEuJaGLJ"
      },
      "source": [
        "11."
      ]
    },
    {
      "cell_type": "code",
      "metadata": {
        "id": "YnNs13uLaG42",
        "colab": {
          "base_uri": "https://localhost:8080/"
        },
        "outputId": "da49a3cb-1b18-4d73-b1e2-93d96120a747"
      },
      "source": [
        "units[-2]"
      ],
      "execution_count": 39,
      "outputs": [
        {
          "output_type": "execute_result",
          "data": {
            "text/plain": [
              "['km', 'miles', 'league']"
            ]
          },
          "metadata": {},
          "execution_count": 39
        }
      ]
    },
    {
      "cell_type": "code",
      "metadata": {
        "id": "4SCwvaDOaKD4",
        "colab": {
          "base_uri": "https://localhost:8080/"
        },
        "outputId": "325aa057-f2fd-4977-cdfe-906f101533b6"
      },
      "source": [
        "units[-1]"
      ],
      "execution_count": 40,
      "outputs": [
        {
          "output_type": "execute_result",
          "data": {
            "text/plain": [
              "['kg', 'pound', 'stone']"
            ]
          },
          "metadata": {},
          "execution_count": 40
        }
      ]
    },
    {
      "cell_type": "code",
      "metadata": {
        "id": "3r8KxahXaLm7",
        "colab": {
          "base_uri": "https://localhost:8080/",
          "height": 35
        },
        "outputId": "0e562fe3-3404-48ea-fff9-8e2753ac71a5"
      },
      "source": [
        "units[-2][-3]"
      ],
      "execution_count": 41,
      "outputs": [
        {
          "output_type": "execute_result",
          "data": {
            "application/vnd.google.colaboratory.intrinsic+json": {
              "type": "string"
            },
            "text/plain": [
              "'km'"
            ]
          },
          "metadata": {},
          "execution_count": 41
        }
      ]
    },
    {
      "cell_type": "code",
      "metadata": {
        "id": "OwB_4MiTaNEh",
        "colab": {
          "base_uri": "https://localhost:8080/",
          "height": 35
        },
        "outputId": "0ddb3cb5-3f84-477d-f66b-d4db74583b10"
      },
      "source": [
        "units[-1][-3]"
      ],
      "execution_count": 42,
      "outputs": [
        {
          "output_type": "execute_result",
          "data": {
            "application/vnd.google.colaboratory.intrinsic+json": {
              "type": "string"
            },
            "text/plain": [
              "'kg'"
            ]
          },
          "metadata": {},
          "execution_count": 42
        }
      ]
    },
    {
      "cell_type": "code",
      "metadata": {
        "id": "I3wyjxLTaOOO",
        "colab": {
          "base_uri": "https://localhost:8080/"
        },
        "outputId": "5189e0b3-6584-407f-f525-d6a0a259c8c9"
      },
      "source": [
        "units[-2][-2:]"
      ],
      "execution_count": 43,
      "outputs": [
        {
          "output_type": "execute_result",
          "data": {
            "text/plain": [
              "['miles', 'league']"
            ]
          },
          "metadata": {},
          "execution_count": 43
        }
      ]
    },
    {
      "cell_type": "code",
      "metadata": {
        "id": "1QQlDePjaQ8C",
        "colab": {
          "base_uri": "https://localhost:8080/"
        },
        "outputId": "5379c64e-f492-48fc-ab27-5fe1d747f011"
      },
      "source": [
        "units[-1][:-1]"
      ],
      "execution_count": 44,
      "outputs": [
        {
          "output_type": "execute_result",
          "data": {
            "text/plain": [
              "['kg', 'pound']"
            ]
          },
          "metadata": {},
          "execution_count": 44
        }
      ]
    },
    {
      "cell_type": "markdown",
      "metadata": {
        "id": "v87bSNRoaYxP"
      },
      "source": [
        "Bài tập chương 9"
      ]
    },
    {
      "cell_type": "markdown",
      "metadata": {
        "id": "31zmuM3eaeK9"
      },
      "source": [
        "1."
      ]
    },
    {
      "cell_type": "code",
      "metadata": {
        "id": "RlBr7LUSail4",
        "colab": {
          "base_uri": "https://localhost:8080/"
        },
        "outputId": "c688b232-042c-4862-e97c-824a0c620799"
      },
      "source": [
        "celegans_phenotypes = ['Emb','Him', 'Unc', 'Lon', 'Dpy', 'Sma']\n",
        "for phenotype in celegans_phenotypes:\n",
        "  print(phenotype)"
      ],
      "execution_count": 45,
      "outputs": [
        {
          "output_type": "stream",
          "name": "stdout",
          "text": [
            "Emb\n",
            "Him\n",
            "Unc\n",
            "Lon\n",
            "Dpy\n",
            "Sma\n"
          ]
        }
      ]
    },
    {
      "cell_type": "markdown",
      "metadata": {
        "id": "nvDlVlySannS"
      },
      "source": [
        "2."
      ]
    },
    {
      "cell_type": "code",
      "metadata": {
        "id": "yJQEHV8xaoME",
        "colab": {
          "base_uri": "https://localhost:8080/"
        },
        "outputId": "184d0781-36ac-4f12-9164-3094f2865ca2"
      },
      "source": [
        "half_lives=[87.74, 24110.0, 6537.0, 14.4, 376000.0]\n",
        "for value in half_lives:\n",
        "  print(value, end=' ')"
      ],
      "execution_count": 46,
      "outputs": [
        {
          "output_type": "stream",
          "name": "stdout",
          "text": [
            "87.74 24110.0 6537.0 14.4 376000.0 "
          ]
        }
      ]
    },
    {
      "cell_type": "markdown",
      "metadata": {
        "id": "CNXQfHqvaxCC"
      },
      "source": [
        "3."
      ]
    },
    {
      "cell_type": "code",
      "metadata": {
        "id": "64yXRzIaaxeU",
        "colab": {
          "base_uri": "https://localhost:8080/"
        },
        "outputId": "01f8e5b7-801b-48ad-d99d-d5da41f31251"
      },
      "source": [
        "whales = [5, 4, 7, 3, 2, 3, 2, 6, 4, 2, 1, 7, 1, 3]\n",
        "more_whales = []\n",
        "for count in whales:\n",
        "  more_whales.append(count + 1)\n",
        "more_whales"
      ],
      "execution_count": 47,
      "outputs": [
        {
          "output_type": "execute_result",
          "data": {
            "text/plain": [
              "[6, 5, 8, 4, 3, 4, 3, 7, 5, 3, 2, 8, 2, 4]"
            ]
          },
          "metadata": {},
          "execution_count": 47
        }
      ]
    },
    {
      "cell_type": "markdown",
      "metadata": {
        "id": "oH6gE0bUa63F"
      },
      "source": [
        "4."
      ]
    },
    {
      "cell_type": "code",
      "metadata": {
        "id": "YsoqkN7Xa8Nw"
      },
      "source": [
        "alkaline_earth_metals = [[4, 9.012], [12, 24.305],\n",
        "[20, 40.078], [38, 87.62],\n",
        "[56, 137.327], [88, 226]]"
      ],
      "execution_count": 48,
      "outputs": []
    },
    {
      "cell_type": "code",
      "metadata": {
        "id": "iNdgjNYUa-Ta",
        "colab": {
          "base_uri": "https://localhost:8080/"
        },
        "outputId": "bdb43ecd-7258-4e3e-d0c5-da1802c1868b"
      },
      "source": [
        "for inner_list in alkaline_earth_metals:\n",
        "  print(inner_list[0])\n",
        "  print(inner_list[1])"
      ],
      "execution_count": 49,
      "outputs": [
        {
          "output_type": "stream",
          "name": "stdout",
          "text": [
            "4\n",
            "9.012\n",
            "12\n",
            "24.305\n",
            "20\n",
            "40.078\n",
            "38\n",
            "87.62\n",
            "56\n",
            "137.327\n",
            "88\n",
            "226\n"
          ]
        }
      ]
    },
    {
      "cell_type": "code",
      "metadata": {
        "id": "y8ciWZj3bCWk",
        "colab": {
          "base_uri": "https://localhost:8080/"
        },
        "outputId": "517c381a-711f-43cb-b86e-b8795f8f0d21"
      },
      "source": [
        "number_and_weight = []\n",
        "for inner_list in alkaline_earth_metals:\n",
        "  number_and_weight.append(inner_list[0])\n",
        "  number_and_weight.append(inner_list[1])\n",
        "number_and_weight"
      ],
      "execution_count": 50,
      "outputs": [
        {
          "output_type": "execute_result",
          "data": {
            "text/plain": [
              "[4, 9.012, 12, 24.305, 20, 40.078, 38, 87.62, 56, 137.327, 88, 226]"
            ]
          },
          "metadata": {},
          "execution_count": 50
        }
      ]
    },
    {
      "cell_type": "markdown",
      "metadata": {
        "id": "-w77W6A0bZur"
      },
      "source": [
        "5."
      ]
    },
    {
      "cell_type": "code",
      "metadata": {
        "id": "FKidaIr7baWA",
        "colab": {
          "base_uri": "https://localhost:8080/"
        },
        "outputId": "5b264b70-21ce-4974-f1d5-8d5ecf905ebd"
      },
      "source": [
        "def mystery_function(values):\n",
        "  \"\"\" (list) -> list\n",
        "\n",
        "Return a copy of the list, values, and the sublists it contains.\n",
        "The top-level sublists have their elements reversed in the returned\n",
        "list.\n",
        "\n",
        ">>> mystery_function([[1, 2, 3], [4, 5, 6]])\n",
        "[[3, 2, 1], [6, 5, 4]]\n",
        "\"\"\"\n",
        "  result = []\n",
        "  for sublist in values:\n",
        "    result.append([sublist[0]])\n",
        "  for i in sublist[1:]:\n",
        "    result[-1].insert(0, i)\n",
        "  return result\n",
        "mystery_function([[1, 2, 3], [4, 5, 6]])"
      ],
      "execution_count": 51,
      "outputs": [
        {
          "output_type": "execute_result",
          "data": {
            "text/plain": [
              "[[1], [6, 5, 4]]"
            ]
          },
          "metadata": {},
          "execution_count": 51
        }
      ]
    },
    {
      "cell_type": "markdown",
      "metadata": {
        "id": "i3ZYRnWKb2GS"
      },
      "source": [
        "6."
      ]
    },
    {
      "cell_type": "code",
      "metadata": {
        "id": "Lz1pcrKrb21m",
        "colab": {
          "base_uri": "https://localhost:8080/"
        },
        "outputId": "84d69b41-d541-4fc9-b152-f59721e1fc69"
      },
      "source": [
        "text = \"\"\n",
        "while text.lower() != \"quit\":\n",
        "  text = input(\"Please enter a chemical formula (or 'quit' to exit): \")\n",
        "  if text == \"quit\":\n",
        "    print(\"...exiting program\")\n",
        "  elif text == \"H2O\":\n",
        "    print(\"Water\")\n",
        "  elif text == \"NH3\":\n",
        "    print(\"Ammonia\")\n",
        "  elif text == \"CH4\":\n",
        "    print(\"Methane\")\n",
        "  else:\n",
        "    print(\"Unknown compound\")"
      ],
      "execution_count": 52,
      "outputs": [
        {
          "output_type": "stream",
          "name": "stdout",
          "text": [
            "Please enter a chemical formula (or 'quit' to exit): H2O\n",
            "Water\n",
            "Please enter a chemical formula (or 'quit' to exit): NH3\n",
            "Ammonia\n",
            "Please enter a chemical formula (or 'quit' to exit): quit\n",
            "...exiting program\n"
          ]
        }
      ]
    },
    {
      "cell_type": "markdown",
      "metadata": {
        "id": "CSx6Ved1cNWU"
      },
      "source": [
        "7."
      ]
    },
    {
      "cell_type": "code",
      "metadata": {
        "id": "64lt9JCGcPxB",
        "colab": {
          "base_uri": "https://localhost:8080/"
        },
        "outputId": "45e256c1-4eb9-4b14-f1d9-cb7f8e24ba84"
      },
      "source": [
        "country_populations = [1295, 23, 7, 3, 47, 21]\n",
        "total = 0\n",
        "for population in country_populations:\n",
        "  total += population\n",
        "total"
      ],
      "execution_count": 53,
      "outputs": [
        {
          "output_type": "execute_result",
          "data": {
            "text/plain": [
              "1396"
            ]
          },
          "metadata": {},
          "execution_count": 53
        }
      ]
    },
    {
      "cell_type": "markdown",
      "metadata": {
        "id": "Mko0l4O0dekr"
      },
      "source": [
        "8."
      ]
    },
    {
      "cell_type": "code",
      "metadata": {
        "id": "G_q1t7l4dfjY",
        "colab": {
          "base_uri": "https://localhost:8080/"
        },
        "outputId": "7c2ab4eb-bbfe-488b-d3e5-357ca92f2eca"
      },
      "source": [
        "import numpy as np\n",
        "rat_1=np.random.randint(10,size=10)\n",
        "rat_2=np.random.randint(10,size=10)\n",
        "print(rat_1)\n",
        "print(rat_2)\n",
        "if rat_1[0] > rat_2[0]:\n",
        "  print(\"Rat 1 weighed more than rat 2 on day 1.\")\n",
        "else:\n",
        "  print(\"Rat 1 weighed less than rat 2 on day 1.\")"
      ],
      "execution_count": 54,
      "outputs": [
        {
          "output_type": "stream",
          "name": "stdout",
          "text": [
            "[8 1 3 8 5 5 7 5 9 2]\n",
            "[4 3 7 5 8 6 5 5 2 0]\n",
            "Rat 1 weighed more than rat 2 on day 1.\n"
          ]
        }
      ]
    },
    {
      "cell_type": "code",
      "metadata": {
        "id": "c2MAU5ctdqfp",
        "colab": {
          "base_uri": "https://localhost:8080/"
        },
        "outputId": "4a4918eb-de59-49a1-da8d-c399884193da"
      },
      "source": [
        "print(rat_1)\n",
        "print(rat_2)\n",
        "if rat_1[0] > rat_2[0] and rat_1[-1] > rat_2[-1]:\n",
        "  print(\"Rat 1 remained heavier than Rat 2.\")\n",
        "else:\n",
        "  print(\"Rat 2 became heavier than Rat 1.\")"
      ],
      "execution_count": 55,
      "outputs": [
        {
          "output_type": "stream",
          "name": "stdout",
          "text": [
            "[8 1 3 8 5 5 7 5 9 2]\n",
            "[4 3 7 5 8 6 5 5 2 0]\n",
            "Rat 1 remained heavier than Rat 2.\n"
          ]
        }
      ]
    },
    {
      "cell_type": "code",
      "metadata": {
        "id": "jf7L5r_mdv_l",
        "colab": {
          "base_uri": "https://localhost:8080/"
        },
        "outputId": "a1280124-dbf2-4c7f-a8b2-20778a8d896a"
      },
      "source": [
        "if rat_1[0] > rat_2[0]:\n",
        "  if rat_1[-1] > rat_2[-1]:\n",
        "    print(\"Rat 1 remained heavier than Rat 2.\")\n",
        "  else:\n",
        "    print(\"Rat 2 became heavier than Rat 1.\")\n",
        "else:\n",
        "  print(\"Rat 2 became heavier than Rat 1.\")"
      ],
      "execution_count": 56,
      "outputs": [
        {
          "output_type": "stream",
          "name": "stdout",
          "text": [
            "Rat 1 remained heavier than Rat 2.\n"
          ]
        }
      ]
    },
    {
      "cell_type": "markdown",
      "metadata": {
        "id": "CkgnDo87eJpC"
      },
      "source": [
        "9."
      ]
    },
    {
      "cell_type": "code",
      "metadata": {
        "id": "PtKMzB-ieKcg",
        "colab": {
          "base_uri": "https://localhost:8080/"
        },
        "outputId": "81fd334f-78d4-42da-90ee-6857cd9a4955"
      },
      "source": [
        "for number in range(33, 50):\n",
        "  print(number)"
      ],
      "execution_count": 57,
      "outputs": [
        {
          "output_type": "stream",
          "name": "stdout",
          "text": [
            "33\n",
            "34\n",
            "35\n",
            "36\n",
            "37\n",
            "38\n",
            "39\n",
            "40\n",
            "41\n",
            "42\n",
            "43\n",
            "44\n",
            "45\n",
            "46\n",
            "47\n",
            "48\n",
            "49\n"
          ]
        }
      ]
    },
    {
      "cell_type": "markdown",
      "metadata": {
        "id": "8ENk6Hngh40U"
      },
      "source": [
        "10."
      ]
    },
    {
      "cell_type": "code",
      "metadata": {
        "id": "Y5CYgRnGh5mR",
        "colab": {
          "base_uri": "https://localhost:8080/"
        },
        "outputId": "18251ffe-17c2-4fae-e28d-5a84aa05b13a"
      },
      "source": [
        "for number in range(10):\n",
        "  print(10 - number, end=' ')"
      ],
      "execution_count": 58,
      "outputs": [
        {
          "output_type": "stream",
          "name": "stdout",
          "text": [
            "10 9 8 7 6 5 4 3 2 1 "
          ]
        }
      ]
    },
    {
      "cell_type": "markdown",
      "metadata": {
        "id": "tIOhZ5Uyh-Pl"
      },
      "source": [
        "11."
      ]
    },
    {
      "cell_type": "code",
      "metadata": {
        "id": "_yl3UFaJh_Di",
        "colab": {
          "base_uri": "https://localhost:8080/"
        },
        "outputId": "1ec89e74-f093-45db-a2c8-d5a4906c305c"
      },
      "source": [
        "sum = 0\n",
        "count = 0\n",
        "for number in range(2,23):\n",
        "  sum += number\n",
        "  count += 1\n",
        "average = sum / count\n",
        "average"
      ],
      "execution_count": 59,
      "outputs": [
        {
          "output_type": "execute_result",
          "data": {
            "text/plain": [
              "12.0"
            ]
          },
          "metadata": {},
          "execution_count": 59
        }
      ]
    },
    {
      "cell_type": "markdown",
      "metadata": {
        "id": "V-jcB9zWiDUl"
      },
      "source": [
        "12."
      ]
    },
    {
      "cell_type": "code",
      "metadata": {
        "id": "YSSYIwy7iELN",
        "outputId": "7ceda802-cd30-4d37-97ac-0dabc6c4c68d",
        "colab": {
          "base_uri": "https://localhost:8080/"
        }
      },
      "source": [
        "def remove_neg(num_list):\n",
        "  for i in num_list:\n",
        "    if num_list[i] < 0:\n",
        "      del num_list[i]\n",
        "  print(num_list)\n",
        "remove_neg([1, 2, 3, -3, 6, -1, -3, 1])"
      ],
      "execution_count": 60,
      "outputs": [
        {
          "output_type": "stream",
          "name": "stdout",
          "text": [
            "[1, 2, 3, 6, -3, 1]\n"
          ]
        }
      ]
    },
    {
      "cell_type": "markdown",
      "metadata": {
        "id": "j0Wwis-Zif4z"
      },
      "source": [
        "13."
      ]
    },
    {
      "cell_type": "code",
      "metadata": {
        "id": "q2V1sLLeigwy",
        "colab": {
          "base_uri": "https://localhost:8080/"
        },
        "outputId": "b47aed78-ef53-454a-daed-ee106ca0309a"
      },
      "source": [
        "for width in range(1, 8):\n",
        "  print('T' * width)"
      ],
      "execution_count": 61,
      "outputs": [
        {
          "output_type": "stream",
          "name": "stdout",
          "text": [
            "T\n",
            "TT\n",
            "TTT\n",
            "TTTT\n",
            "TTTTT\n",
            "TTTTTT\n",
            "TTTTTTT\n"
          ]
        }
      ]
    },
    {
      "cell_type": "markdown",
      "metadata": {
        "id": "VGlL9owQjcbs"
      },
      "source": [
        "14."
      ]
    },
    {
      "cell_type": "code",
      "metadata": {
        "id": "pFaN5JN5jdy-",
        "colab": {
          "base_uri": "https://localhost:8080/"
        },
        "outputId": "975335f3-e45e-4eb0-f26a-96d71be7d818"
      },
      "source": [
        "for width in range(1, 8):\n",
        "  print(' '*(8 - width), 'T' * width)\n"
      ],
      "execution_count": 62,
      "outputs": [
        {
          "output_type": "stream",
          "name": "stdout",
          "text": [
            "        T\n",
            "       TT\n",
            "      TTT\n",
            "     TTTT\n",
            "    TTTTT\n",
            "   TTTTTT\n",
            "  TTTTTTT\n"
          ]
        }
      ]
    },
    {
      "cell_type": "markdown",
      "metadata": {
        "id": "2U4KGru0k03F"
      },
      "source": [
        "15."
      ]
    },
    {
      "cell_type": "code",
      "metadata": {
        "id": "Gfp3PsVek2by",
        "colab": {
          "base_uri": "https://localhost:8080/"
        },
        "outputId": "52d48984-9c3a-4cb5-9b1e-d07d1dfc1032"
      },
      "source": [
        "width = 1\n",
        "while width < 8:\n",
        "  print('T' * width)\n",
        "  width += 1\n"
      ],
      "execution_count": 63,
      "outputs": [
        {
          "output_type": "stream",
          "name": "stdout",
          "text": [
            "T\n",
            "TT\n",
            "TTT\n",
            "TTTT\n",
            "TTTTT\n",
            "TTTTTT\n",
            "TTTTTTT\n"
          ]
        }
      ]
    },
    {
      "cell_type": "code",
      "metadata": {
        "id": "uWSp3vblVu46",
        "outputId": "cfde52f4-559e-42d9-a266-50b6de37f34b",
        "colab": {
          "base_uri": "https://localhost:8080/"
        }
      },
      "source": [
        "width = 1\n",
        "while width < 8:\n",
        "  print(' '*(8 - width), 'T' * width)\n",
        "  width += 1"
      ],
      "execution_count": 64,
      "outputs": [
        {
          "output_type": "stream",
          "name": "stdout",
          "text": [
            "        T\n",
            "       TT\n",
            "      TTT\n",
            "     TTTT\n",
            "    TTTTT\n",
            "   TTTTTT\n",
            "  TTTTTTT\n"
          ]
        }
      ]
    }
  ]
}